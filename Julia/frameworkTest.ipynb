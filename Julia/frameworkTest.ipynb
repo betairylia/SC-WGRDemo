{
 "cells": [
  {
   "cell_type": "code",
   "execution_count": 535,
   "id": "739a568e-d3fb-43cd-b25f-5db3cfcda5dd",
   "metadata": {},
   "outputs": [
    {
     "name": "stderr",
     "output_type": "stream",
     "text": [
      "WARNING: replacing module WGR.\n",
      "WARNING: replacing module Alfheim.\n"
     ]
    },
    {
     "data": {
      "text/plain": [
       "refreshNd (generic function with 2 methods)"
      ]
     },
     "execution_count": 535,
     "metadata": {},
     "output_type": "execute_result"
    }
   ],
   "source": [
    "import Base.Threads.@spawn\n",
    "\n",
    "using NPZ\n",
    "\n",
    "include(\"WGR-MCMClib/WGR.jl\")\n",
    "using .WGR\n",
    "\n",
    "include(\"WGR-MCMClib/Alfheim.jl\")\n",
    "using .Alfheim\n",
    "\n",
    "import Base.flush\n",
    "using Distributions\n",
    "\n",
    "using Formatting\n",
    "using Test\n",
    "\n",
    "# buf = WGR.BlockBuffer(32 * Threads.nthreads())\n",
    "buf = WGR.BlockBuffer(128)\n",
    "setBlocks(x,y,z,b) = WGR.setBlocks!(buf, x, y, z, b)\n",
    "flush() = WGR.flush!(buf)\n",
    "refreshNd(a,p,f = false) = WGR.refreshNd!(buf,a,p,f)"
   ]
  },
  {
   "cell_type": "code",
   "execution_count": 536,
   "id": "ea6ff07a-98f8-4973-b2e2-8093e9870fb8",
   "metadata": {},
   "outputs": [
    {
     "data": {
      "text/plain": [
       "testBFS (generic function with 1 method)"
      ]
     },
     "execution_count": 536,
     "metadata": {},
     "output_type": "execute_result"
    }
   ],
   "source": [
    "function testBFS()\n",
    "    Ntest = 10\n",
    "    Mtest = 1000\n",
    "\n",
    "    vox = rand(1:2, Ntest, Ntest, Ntest)\n",
    "    dist = fill(1000, Ntest, Ntest, Ntest)\n",
    "    dist[3, 2, 1] = 0\n",
    "    dirc = zeros(UInt8, Ntest, Ntest, Ntest)\n",
    "    visited = zeros(Bool, size(vox)...)\n",
    "    cost = ones(2, 2, 6)\n",
    "    cost[1,1,:] .= 1\n",
    "    cost[1,2,:] .= 5\n",
    "    cost[2,1,:] .= 1\n",
    "    cost[2,2,:] .= 5\n",
    "    minB = [2,2,2]\n",
    "    maxB = [-1,-1,-1]\n",
    "    starts = [[3,2,1]]\n",
    "\n",
    "    initialSum = sum(dist[2:end-1, 2:end-1, 2:end-1])\n",
    "\n",
    "    diff = Alfheim.BFS!(dist, dirc, vox, cost, starts, visited; minB = minB, maxBFromBoundary = maxB)\n",
    "    # @show dist\n",
    "    @show sum(dist[2:end-1, 2:end-1, 2:end-1])\n",
    "\n",
    "    for i in 1:Mtest\n",
    "        p = rand(2:(Ntest-1), 3)\n",
    "        vox[p...] = 2 - vox[p...] + 1 # Flip\n",
    "        starts = [p]\n",
    "        diff += Alfheim.BFS!(dist, dirc, vox, cost, starts, visited; minB = minB, maxBFromBoundary = maxB)\n",
    "    end\n",
    "\n",
    "    @show sum(dist[2:end-1, 2:end-1, 2:end-1])\n",
    "\n",
    "    # Re-calculate\n",
    "    dist = fill(1000, Ntest, Ntest, Ntest)\n",
    "    dist[3, 2, 1] = 0\n",
    "    dirc = zeros(UInt8, Ntest, Ntest, Ntest)\n",
    "    starts = [[3,2,1]]\n",
    "    Alfheim.BFSbad!(dist, dirc, vox, cost, starts, visited; minB = minB, maxBFromBoundary = maxB)\n",
    "    nextSum = sum(dist[2:end-1, 2:end-1, 2:end-1])\n",
    "\n",
    "    @show dist[2:end-1, 2:end-1, 2:end-1]\n",
    "    @show @test initialSum + diff == nextSum\n",
    "end"
   ]
  },
  {
   "cell_type": "code",
   "execution_count": 537,
   "id": "53870204-3c37-4354-b544-3e2a68bfe202",
   "metadata": {},
   "outputs": [
    {
     "data": {
      "text/plain": [
       "pad (generic function with 3 methods)"
      ]
     },
     "execution_count": 537,
     "metadata": {},
     "output_type": "execute_result"
    }
   ],
   "source": [
    "function pad(arr, padding = 1, content = 0)\n",
    "    padded = fill(content, size(arr) .+ padding * 2)\n",
    "    padded[1+padding:end-padding, 1+padding:end-padding, 1+padding:end-padding] = arr\n",
    "    return padded\n",
    "end"
   ]
  },
  {
   "cell_type": "code",
   "execution_count": 538,
   "id": "4f52cee0-0293-47d4-8889-624fdb935c34",
   "metadata": {},
   "outputs": [
    {
     "name": "stdout",
     "output_type": "stream",
     "text": [
      "(18, 20, 18)\n"
     ]
    }
   ],
   "source": [
    "monu10 = npzread(\"../Python/AlfheimMCMC/alfheimTest.npy\")\n",
    "monu10 = pad(monu10, 1, 0)\n",
    "shape = size(monu10)\n",
    "println(shape)"
   ]
  },
  {
   "cell_type": "code",
   "execution_count": 539,
   "id": "a6c3a5b3-1141-431c-9c5f-27a23d182393",
   "metadata": {},
   "outputs": [
    {
     "name": "stdout",
     "output_type": "stream",
     "text": [
      "bDict = Dict{UInt32, Array{Int64}}(0x00000000 => [1, 5207], 0x99ccccff => [2, 1273])\n"
     ]
    },
    {
     "data": {
      "text/plain": [
       "Categorical{Float64, Vector{Float64}}(support=Base.OneTo(2), p=[0.8035493827160494, 0.1964506172839506])"
      ]
     },
     "execution_count": 539,
     "metadata": {},
     "output_type": "execute_result"
    }
   ],
   "source": [
    "# Pre-process raw monu10 into palette'd monu10\n",
    "#Block Index\n",
    "function blockIndex(blocks)\n",
    "    blockDict = Dict{UInt32, Array{Int64}}(0 => [1, 0])\n",
    "    blockRep = [0]\n",
    "    for b in monu10\n",
    "        if !haskey(blockDict, b)\n",
    "            blockDict[b] = [length(blockDict) + 1, 0]\n",
    "            push!(blockRep, b)\n",
    "        end\n",
    "        blockDict[b][2] += 1\n",
    "    end\n",
    "    \n",
    "    return blockDict, blockRep\n",
    "end\n",
    "\n",
    "bDict, bRep = blockIndex(monu10)\n",
    "\n",
    "pmonu10 = [Alfheim.Block(bDict[b][1]) for b in monu10]\n",
    "\n",
    "# Hack\n",
    "pmonu10[pmonu10 .!= 1] .= 2\n",
    "bDict = filter(b -> last(b)[1] <= 2, bDict)\n",
    "@show bDict\n",
    "bRep = convert(Array{WGR.Block}, bRep[1:2])\n",
    "\n",
    "Nb = length(bDict)\n",
    "bTotal = sum([b[2] for b in values(bDict)])\n",
    "bDist = Categorical([bDict[bRep[b]][2] / bTotal for b in 1:Nb])"
   ]
  },
  {
   "cell_type": "code",
   "execution_count": 540,
   "id": "70293fef-6e26-4bfa-871f-da39bf0be597",
   "metadata": {},
   "outputs": [
    {
     "data": {
      "text/plain": [
       "0"
      ]
     },
     "execution_count": 540,
     "metadata": {},
     "output_type": "execute_result"
    }
   ],
   "source": [
    "refreshNd(bRep[pmonu10], [1, 65, 1], false)"
   ]
  },
  {
   "cell_type": "code",
   "execution_count": 541,
   "id": "dbfe782d-88b9-4fb1-87e4-2e0eb71e8ee5",
   "metadata": {},
   "outputs": [
    {
     "data": {
      "text/plain": [
       "2"
      ]
     },
     "execution_count": 541,
     "metadata": {},
     "output_type": "execute_result"
    }
   ],
   "source": [
    "# Parameters\n",
    "# Ns = [2]       # Pattern size\n",
    "# Nweight = [500.0]\n",
    "step = 1    # Pattern stride\n",
    "mcsize = 64 # MCMC size (XZ)\n",
    "mcheight = 12 # MCMC height\n",
    "eps = 3e-4  # Epsilon\n",
    "# targetPosThreads = [[100 + 40 * , 65, 1]] # Where to put the mcmc\n",
    "nIters = 1400000\n",
    "\n",
    "bDistλ = mcsize^2 * mcheight * 6\n",
    "# bDistλ = 40\n",
    "\n",
    "Tstart = 12.0\n",
    "Tend = 5.0\n",
    "\n",
    "NDR = 2\n",
    "padding = 2"
   ]
  },
  {
   "cell_type": "code",
   "execution_count": 542,
   "id": "cbe3a369-b104-41fb-a391-fdf76229d5c8",
   "metadata": {},
   "outputs": [
    {
     "data": {
      "text/plain": [
       "initialize (generic function with 1 method)"
      ]
     },
     "execution_count": 542,
     "metadata": {},
     "output_type": "execute_result"
    }
   ],
   "source": [
    "function initialize()\n",
    "    # arr = [1 for x in 1:mcsize, y in 1:mcsize, z in 1:mcsize]\n",
    "    arr = Alfheim.Block[rand(bDist) for x in 1:mcsize, y in 1:mcheight, z in 1:mcsize]\n",
    "    # pst = [30, 40, 7]\n",
    "    # arr = pmonu10[[pst[i]:pst[i]+mcsize for i in 1:3]...]\n",
    "    arr = pad(arr, padding, 1)\n",
    "    # arr = copy(pmonu10)\n",
    "\n",
    "    # walker = Alfheim.RandomBlockProposal(\n",
    "    walker = Alfheim.RandomBlockProposalAlwaysDifferent(\n",
    "        # bDist,\n",
    "        Categorical([1 / Nb for i in 1:Nb]),\n",
    "        1,\n",
    "        [1, 1, 1] .+ padding,\n",
    "        [size(arr)[i] for i in 1:3] .- padding\n",
    "    )\n",
    "\n",
    "    # Readin patterns\n",
    "    patterns = [\n",
    "        Alfheim.PatternMarginals(2),\n",
    "        Alfheim.Patterns(3),\n",
    "    ]\n",
    "    pWeights = [\n",
    "        500.0,\n",
    "        1.03\n",
    "    ]\n",
    "    @time [Alfheim.readSlices!(p, pmonu10) for p in patterns]\n",
    "\n",
    "    ############# Create Paths energy\n",
    "\n",
    "    # Costs\n",
    "    costs = zeros(Int, Nb, Nb, Nb, Nb, 6)\n",
    "    \n",
    "    costs[1:Nb, 1:Nb, 1, 1, 1:6] .= 10 # -> Void\n",
    "    costs[1:Nb, 1:Nb, 2:Nb, 1:Nb, 1:6] .= 10 # -> Solid\n",
    "    \n",
    "    costs[1:Nb, 1:Nb, 1, 2:Nb, 1:2] .= 10 # -> Road, vertical (should not appear)\n",
    "    costs[1:Nb, 1:Nb, 1, 2:Nb, 3:6] .= 2 # -> Road, horizontal\n",
    "    \n",
    "    costs[1, 2:Nb, 1, 1, 1:6] .= 3 # Road -> Void (stairs)\n",
    "    costs[1, 1, 1, 2:Nb, 1:6] .= 3 # Void -> Road (stairs)\n",
    "    \n",
    "    # Test cost\n",
    "    # costs = zeros(Int, Nb, Nb, 6)\n",
    "    # costs[1:Nb, 1:Nb, 1:6] .= 1\n",
    "    \n",
    "    @show findall(x -> x>0, costs .== 0)\n",
    "\n",
    "    # Arrays\n",
    "    dist = fill(Int(2^30), size(arr))\n",
    "    dirc = ones(UInt8, size(arr)...)\n",
    "\n",
    "    # Entrance\n",
    "    entranceSize = mcsize ÷ 3\n",
    "    entranceStart = (mcsize + 2 * padding - entranceSize) ÷ 2 + 1\n",
    "    entranceEnd = entranceStart + entranceSize\n",
    "\n",
    "    # 4 Entries\n",
    "    starts = []\n",
    "    \n",
    "    dist[entranceStart:entranceEnd, 1:1 + padding, 1:padding] .= 0\n",
    "    starts = [starts; [[x, 1 + padding, padding] for x in entranceStart:entranceEnd]]\n",
    "    arr[entranceStart:entranceEnd, 1:padding, 1:padding] .= 2\n",
    "    \n",
    "    dist[1:padding, 1:1 + padding, entranceStart:entranceEnd] .= 0\n",
    "    starts = [starts; [[padding, 1 + padding, x] for x in entranceStart:entranceEnd]]\n",
    "    arr[1:padding, 1:padding, entranceStart:entranceEnd] .= 2\n",
    "    \n",
    "    dist[entranceStart:entranceEnd, 1:1 + padding, end:-1:end-padding+1] .= 0\n",
    "    starts = [starts; [[x, 1 + padding, size(arr)[3]-padding+1] for x in entranceStart:entranceEnd]]\n",
    "    arr[entranceStart:entranceEnd, 1:padding, end:-1:end-padding+1] .= 2\n",
    "    \n",
    "    dist[end:-1:end-padding+1, 1:1 + padding, entranceStart:entranceEnd] .= 0\n",
    "    starts = [starts; [[size(arr)[1]-padding+1, 1 + padding, x] for x in entranceStart:entranceEnd]]\n",
    "    arr[end:-1:end-padding+1, 1:padding, entranceStart:entranceEnd] .= 2\n",
    "\n",
    "    @show [1, 1, 1] .+ padding\n",
    "\n",
    "    # pathsEnergy = Alfheim.Paths(costs, starts, [[0,0,0]], walker.boundsMin, walker.boundsMax, dist, dirc)\n",
    "    pathsEnergy = Alfheim.Paths(costs, starts, [[0,0,0], [0,-1,0]], walker.boundsMin, walker.boundsMax, dist, dirc)\n",
    "    pathsWeight = 0.07\n",
    "\n",
    "    ############# Create gravity paths energy\n",
    "\n",
    "    # Gravity / support\n",
    "    costs = zeros(Int, Nb, Nb, 6)\n",
    "    costs[2:Nb, 2:Nb, 1] .= 5 # To solid, up\n",
    "    costs[2:Nb, 2:Nb, 2] .= 1 # To solid, down\n",
    "    costs[2:Nb, 2:Nb, 3:6] .= 3 # To solid, left / right / forward / back\n",
    "    costs[2:Nb, 1, 1:6] .= 100 # To air\n",
    "    costs[1, 1, 1:6] .= 1 # air -> air\n",
    "\n",
    "    # Arrays\n",
    "    dist = fill(Int(2^30), size(arr))\n",
    "    dirc = ones(UInt8, size(arr)...)\n",
    "\n",
    "    # Entrance\n",
    "    dist[:, 1:padding, :] .= 0\n",
    "    starts = []\n",
    "    for x in 1:size(arr)[1]\n",
    "        for y in 1:padding\n",
    "            for z in 1:size(arr)[3]\n",
    "                push!(starts, [x, y, z])\n",
    "            end\n",
    "        end\n",
    "    end\n",
    "\n",
    "    # Fill init voxels\n",
    "    arr[:, 1:padding, :] .= 2\n",
    "\n",
    "    pathsEnergyG = Alfheim.Paths(costs, starts, [[0,0,0]], walker.boundsMin, walker.boundsMax, dist, dirc)\n",
    "    pathsWeightG = 0.13\n",
    "\n",
    "    ###############################################################################################\n",
    "\n",
    "    mstate = Alfheim.createMCMCState(\n",
    "\n",
    "        # Initial voxels\n",
    "        arr,\n",
    "\n",
    "        # Energies\n",
    "        Alfheim.VoxelGibbsDistribution(\n",
    "            [\n",
    "                Alfheim.BlockMargins(bDist.p),\n",
    "                patterns...,\n",
    "                pathsEnergy,\n",
    "                pathsEnergyG,\n",
    "            ],\n",
    "            [\n",
    "                bDistλ,\n",
    "                pWeights...,\n",
    "                pathsWeight,\n",
    "                pathsWeightG,\n",
    "            ]\n",
    "        ),\n",
    "\n",
    "        # Walker\n",
    "        walker\n",
    "    )\n",
    "\n",
    "    opt = Alfheim.Metropolis()\n",
    "    # opt = Alfheim.ReversibleDRMetropolis(NDR)\n",
    "    \n",
    "    return mstate, opt\n",
    "end"
   ]
  },
  {
   "cell_type": "code",
   "execution_count": 543,
   "id": "75273330-d4c6-49c4-aec9-edd45e69f183",
   "metadata": {},
   "outputs": [
    {
     "data": {
      "text/html": [
       "# 2 methods for generic function <b>initSlices!</b>:<ul><li> initSlices!(sW::<b>Main.Alfheim.PatternMarginals</b>, nSlice) in Main.Alfheim at <a href=\"https://github.com/betairylia/unity-voxel-SC-WGRDemo/tree/60625cf95fc397f05e5ed8cff92cdda06d40606c//Julia/WGR-MCMClib/Slices.jl#L217\" target=\"_blank\">D:\\RP_Games\\UnityProj\\WGRDemo\\Julia\\WGR-MCMClib\\Slices.jl:217</a></li> <li> initSlices!(sW::<b>Main.Alfheim.Patterns</b>, nSlice::<b>Array{UInt8, 3}</b>) in Main.Alfheim at <a href=\"https://github.com/betairylia/unity-voxel-SC-WGRDemo/tree/60625cf95fc397f05e5ed8cff92cdda06d40606c//Julia/WGR-MCMClib/Slices.jl#L115\" target=\"_blank\">D:\\RP_Games\\UnityProj\\WGRDemo\\Julia\\WGR-MCMClib\\Slices.jl:115</a></li> </ul>"
      ],
      "text/plain": [
       "# 2 methods for generic function \"initSlices!\":\n",
       "[1] initSlices!(sW::Main.Alfheim.PatternMarginals, nSlice) in Main.Alfheim at D:\\RP_Games\\UnityProj\\WGRDemo\\Julia\\WGR-MCMClib\\Slices.jl:217\n",
       "[2] initSlices!(sW::Main.Alfheim.Patterns, nSlice::Array{UInt8, 3}) in Main.Alfheim at D:\\RP_Games\\UnityProj\\WGRDemo\\Julia\\WGR-MCMClib\\Slices.jl:115"
      ]
     },
     "execution_count": 543,
     "metadata": {},
     "output_type": "execute_result"
    }
   ],
   "source": [
    "methods(Alfheim.initSlices!)"
   ]
  },
  {
   "cell_type": "code",
   "execution_count": 544,
   "id": "7c31f953-18a4-4225-b5f7-7005d8440495",
   "metadata": {},
   "outputs": [
    {
     "data": {
      "text/plain": [
       "generate (generic function with 1 method)"
      ]
     },
     "execution_count": 544,
     "metadata": {},
     "output_type": "execute_result"
    }
   ],
   "source": [
    "function generate(mstate, opt, targetPos)\n",
    "    \n",
    "    # targetPos = targetPosThreads[threadID]\n",
    "    \n",
    "    flush()\n",
    "    height = size(mstate.voxels)[2]\n",
    "    # for p in starts\n",
    "    #     setBlocks((p + targetPos .- 1)..., 0xff553388)\n",
    "    # end\n",
    "    flush()\n",
    "\n",
    "    Alfheim.init!(mstate)\n",
    "    rejected = 0\n",
    "\n",
    "    sTime = time_ns()\n",
    "\n",
    "    accept_count = zeros(NDR,)\n",
    "    flush(stdout)\n",
    "    \n",
    "    # Show initial voxels\n",
    "    # refreshNd(bRep[mstate.voxels], targetPos, true)\n",
    "    for x in 1:size(mstate.voxels)[1], y in 1:size(mstate.voxels)[2], z in 1:size(mstate.voxels)[3]\n",
    "        p = [x, y, z]\n",
    "        b = mstate.voxels[p...]\n",
    "        setBlocks((p + targetPos .- 1)..., WGR.darken(bRep[b], ((height - p[2]) / height) * 0.75))\n",
    "    end\n",
    "    \n",
    "    # MCMC Iterations\n",
    "    for it in 1:nIters\n",
    "\n",
    "        T = (Tstart - Tend) * (1 - (it / nIters)) + Tend\n",
    "        accepted, ds = Alfheim.step!(opt, mstate; temperature = T)\n",
    "\n",
    "        if (accepted > 0)\n",
    "            accept_count[accepted] += 1\n",
    "            for (p, b) in zip(ds.pos, ds.blk)\n",
    "                setBlocks((p + targetPos .- 1)..., WGR.darken(bRep[b], ((height - p[2]) / height) * 0.75))\n",
    "            end\n",
    "        else\n",
    "            rejected += 1\n",
    "        end\n",
    "\n",
    "        if it % (div(nIters, 100)) == 0\n",
    "            eTime = time_ns()\n",
    "\n",
    "            iter_s = div(nIters, 100) / (eTime - sTime) * 1e9\n",
    "            ETA = (nIters - it) / iter_s\n",
    "\n",
    "            printfmt(\"Iter {:8d} @ {:7.4f} | E = {:8.1f} (E_path = {:8.1f}) | {:7.1f} it / s, {:5.1f}s ETA, aR {:5.1f}% ({:5.1f}%: \", \n",
    "                it, T, sum(mstate.p.E), mstate.p.E[end], iter_s, ETA, \n",
    "                (it - rejected) / it * 100.0,\n",
    "                (sum(accept_count)) / div(nIters, 100) * 100.0)\n",
    "            [printfmt(\"{:5d} \", accept_count[i]) for i in 1:NDR]\n",
    "            print(\")\\n\")\n",
    "\n",
    "            flush()\n",
    "            flush(stdout)\n",
    "\n",
    "            sTime = time_ns()\n",
    "            # last_accd = it - rejected\n",
    "            accept_count = zeros(NDR,)\n",
    "        end\n",
    "\n",
    "        # flush(stdout)\n",
    "    end\n",
    "\n",
    "    flush()\n",
    "end"
   ]
  },
  {
   "cell_type": "code",
   "execution_count": 545,
   "id": "da686df4-d5a3-4849-8a7f-3be8d00c58e1",
   "metadata": {},
   "outputs": [
    {
     "data": {
      "text/plain": [
       "work (generic function with 1 method)"
      ]
     },
     "execution_count": 545,
     "metadata": {},
     "output_type": "execute_result"
    }
   ],
   "source": [
    "mstate = nothing\n",
    "opt = nothing\n",
    "\n",
    "function work(targetPos)\n",
    "    m, o = initialize()\n",
    "    \n",
    "    mstate = m\n",
    "    opt = o\n",
    "    \n",
    "    generate(m, o, targetPos)\n",
    "    return m, o\n",
    "end"
   ]
  },
  {
   "cell_type": "code",
   "execution_count": 546,
   "id": "3ea329ae-156c-4d08-a423-8b896267a1e8",
   "metadata": {},
   "outputs": [
    {
     "name": "stdout",
     "output_type": "stream",
     "text": [
      "  0.149357 seconds (420.54 k allocations: 25.483 MiB, 14.83% gc time, 91.41% compilation time)\n",
      "findall((x->begin\n",
      "            #= In[542]:47 =#\n",
      "            x > 0\n",
      "        end), costs .== 0) = CartesianIndex{5}[]\n",
      "[1, 1, 1] .+ padding = [3, 3, 3]\n",
      "sW.reference[1:10] = [26.46875, 3.30859375, 16.54296875, 6.6171875, 36.39453125, 3.30859375, 3.30859375, 175.35546875, 1038.8984375, 16.54296875]\n",
      "sW.state.MCMCslicesCount[1:10] = [5, 33, 10, 4, 111, 25, 123, 2448, 31, 0]\n",
      "sW.state.E = 115.18385481071958\n",
      "sW.MCMCnumSlices = 60984\n",
      "Iter    14000 @ 11.9300 | E = 1037775.3 (E_path = 121404.7) |   270.0 it / s, 5134.0s ETA, aR  34.4% ( 34.4%:  3074  1736 )\n",
      "Iter    28000 @ 11.8600 | E = 984699.9 (E_path =  99470.5) |   288.6 it / s, 4754.5s ETA, aR  33.3% ( 32.2%:  2807  1695 )\n",
      "Iter    42000 @ 11.7900 | E = 945127.7 (E_path =  84372.5) |   303.6 it / s, 4473.5s ETA, aR  32.2% ( 29.9%:  2468  1724 )\n",
      "Iter    56000 @ 11.7200 | E = 909887.2 (E_path =  74026.2) |   289.4 it / s, 4644.1s ETA, aR  31.3% ( 28.7%:  2315  1705 )\n",
      "Iter    70000 @ 11.6500 | E = 879144.5 (E_path =  67164.5) |   299.1 it / s, 4446.6s ETA, aR  30.5% ( 27.4%:  2142  1689 )\n",
      "Iter    84000 @ 11.5800 | E = 852583.6 (E_path =  62760.0) |   298.6 it / s, 4406.5s ETA, aR  29.9% ( 26.7%:  2098  1643 )\n",
      "Iter    98000 @ 11.5100 | E = 826210.6 (E_path =  59380.4) |   297.8 it / s, 4372.4s ETA, aR  29.2% ( 25.2%:  1939  1591 )\n",
      "Iter   112000 @ 11.4400 | E = 805050.8 (E_path =  57531.6) |   313.1 it / s, 4114.2s ETA, aR  28.6% ( 24.3%:  1867  1537 )\n",
      "Iter   126000 @ 11.3700 | E = 783584.1 (E_path =  56099.8) |   301.7 it / s, 4222.4s ETA, aR  28.0% ( 23.0%:  1814  1407 )\n",
      "Iter   140000 @ 11.3000 | E = 761356.8 (E_path =  54155.8) |   307.2 it / s, 4101.7s ETA, aR  27.4% ( 22.1%:  1726  1365 )\n",
      "Iter   154000 @ 11.2300 | E = 745452.8 (E_path =  53495.0) |   309.7 it / s, 4023.2s ETA, aR  26.8% ( 20.9%:  1604  1322 )\n",
      "Iter   168000 @ 11.1600 | E = 727048.2 (E_path =  52624.8) |   309.2 it / s, 3984.7s ETA, aR  26.2% ( 20.1%:  1533  1286 )\n",
      "Iter   182000 @ 11.0900 | E = 708794.2 (E_path =  51460.0) |   319.1 it / s, 3817.2s ETA, aR  25.7% ( 19.3%:  1534  1165 )\n",
      "Iter   196000 @ 11.0200 | E = 694244.7 (E_path =  50393.9) |   306.9 it / s, 3923.3s ETA, aR  25.2% ( 18.1%:  1400  1133 )\n",
      "Iter   210000 @ 10.9500 | E = 679874.9 (E_path =  49639.1) |   314.3 it / s, 3786.5s ETA, aR  24.6% ( 17.4%:  1337  1106 )\n",
      "Iter   224000 @ 10.8800 | E = 667569.2 (E_path =  49421.6) |   304.4 it / s, 3862.7s ETA, aR  24.2% ( 16.9%:  1304  1068 )\n",
      "Iter   238000 @ 10.8100 | E = 655838.3 (E_path =  48288.5) |   305.5 it / s, 3803.4s ETA, aR  23.7% ( 15.7%:  1231   967 )\n",
      "Iter   252000 @ 10.7400 | E = 640912.1 (E_path =  47513.3) |   308.4 it / s, 3722.3s ETA, aR  23.2% ( 15.2%:  1211   914 )\n",
      "Iter   266000 @ 10.6700 | E = 629385.4 (E_path =  47005.3) |   313.0 it / s, 3622.4s ETA, aR  22.8% ( 14.7%:  1124   935 )\n",
      "Iter   280000 @ 10.6000 | E = 616246.7 (E_path =  46691.8) |   297.7 it / s, 3761.8s ETA, aR  22.3% ( 13.5%:  1078   812 )\n",
      "Iter   294000 @ 10.5300 | E = 605967.8 (E_path =  46473.3) |   306.4 it / s, 3609.9s ETA, aR  21.8% ( 12.9%:   990   817 )\n",
      "Iter   308000 @ 10.4600 | E = 595366.3 (E_path =  45880.8) |   303.6 it / s, 3597.1s ETA, aR  21.4% ( 12.5%:  1022   734 )\n",
      "Iter   322000 @ 10.3900 | E = 582608.0 (E_path =  45486.9) |   307.8 it / s, 3502.3s ETA, aR  21.0% ( 11.8%:   939   707 )\n",
      "Iter   336000 @ 10.3200 | E = 572559.4 (E_path =  44741.5) |   319.6 it / s, 3329.4s ETA, aR  20.6% ( 11.0%:   848   688 )\n",
      "Iter   350000 @ 10.2500 | E = 563766.5 (E_path =  44593.5) |   317.6 it / s, 3305.7s ETA, aR  20.2% ( 10.5%:   832   641 )\n",
      "Iter   364000 @ 10.1800 | E = 557678.6 (E_path =  44012.2) |   305.8 it / s, 3388.2s ETA, aR  19.8% ( 10.7%:   825   674 )\n",
      "Iter   378000 @ 10.1100 | E = 552430.0 (E_path =  43845.6) |   313.7 it / s, 3258.3s ETA, aR  19.5% ( 10.2%:   758   674 )\n",
      "Iter   392000 @ 10.0400 | E = 546716.5 (E_path =  43358.5) |   307.5 it / s, 3277.6s ETA, aR  19.1% ( 10.3%:   809   636 )\n",
      "Iter   406000 @  9.9700 | E = 541591.8 (E_path =  42902.2) |   322.0 it / s, 3086.8s ETA, aR  18.8% (  9.7%:   773   591 )\n",
      "Iter   420000 @  9.9000 | E = 538078.6 (E_path =  42728.5) |   321.8 it / s, 3045.3s ETA, aR  18.5% (  9.5%:   716   610 )\n",
      "Iter   434000 @  9.8300 | E = 534352.3 (E_path =  42718.9) |   318.8 it / s, 3030.0s ETA, aR  18.2% (  9.3%:   671   627 )\n",
      "Iter   448000 @  9.7600 | E = 529557.9 (E_path =  42347.5) |   311.3 it / s, 3058.5s ETA, aR  17.9% (  8.6%:   673   532 )\n",
      "Iter   462000 @  9.6900 | E = 525007.7 (E_path =  42065.1) |   322.5 it / s, 2908.8s ETA, aR  17.6% (  8.7%:   687   534 )\n",
      "Iter   476000 @  9.6200 | E = 521375.7 (E_path =  41840.2) |   315.6 it / s, 2927.9s ETA, aR  17.4% (  8.8%:   669   557 )\n",
      "Iter   490000 @  9.5500 | E = 518159.7 (E_path =  41676.4) |   323.2 it / s, 2815.2s ETA, aR  17.1% (  8.0%:   632   484 )\n",
      "Iter   504000 @  9.4800 | E = 515490.2 (E_path =  41636.9) |   321.4 it / s, 2787.7s ETA, aR  16.8% (  7.9%:   594   512 )\n",
      "Iter   518000 @  9.4100 | E = 513254.6 (E_path =  41532.0) |   341.8 it / s, 2580.3s ETA, aR  16.6% (  7.2%:   545   457 )\n",
      "Iter   532000 @  9.3400 | E = 509833.4 (E_path =  41275.9) |   330.5 it / s, 2626.4s ETA, aR  16.3% (  7.7%:   594   488 )\n",
      "Iter   546000 @  9.2700 | E = 506940.7 (E_path =  40945.2) |   320.7 it / s, 2663.0s ETA, aR  16.1% (  7.3%:   548   470 )\n",
      "Iter   560000 @  9.2000 | E = 504744.4 (E_path =  40729.9) |   343.5 it / s, 2445.5s ETA, aR  15.9% (  7.1%:   550   448 )\n",
      "Iter   574000 @  9.1300 | E = 502538.1 (E_path =  40666.0) |   333.3 it / s, 2478.1s ETA, aR  15.7% (  7.1%:   528   461 )\n",
      "Iter   588000 @  9.0600 | E = 499615.7 (E_path =  40523.5) |   334.3 it / s, 2429.2s ETA, aR  15.5% (  6.9%:   516   445 )\n",
      "Iter   602000 @  8.9900 | E = 496727.9 (E_path =  40202.4) |   331.0 it / s, 2410.9s ETA, aR  15.3% (  6.6%:   499   420 )\n",
      "Iter   616000 @  8.9200 | E = 495014.7 (E_path =  40261.9) |   327.8 it / s, 2391.8s ETA, aR  15.0% (  6.2%:   458   407 )\n",
      "Iter   630000 @  8.8500 | E = 493334.4 (E_path =  40241.8) |   340.0 it / s, 2265.0s ETA, aR  14.9% (  6.2%:   465   406 )\n",
      "Iter   644000 @  8.7800 | E = 491623.4 (E_path =  40051.2) |   336.7 it / s, 2245.2s ETA, aR  14.7% (  6.0%:   441   395 )\n",
      "Iter   658000 @  8.7100 | E = 489945.4 (E_path =  39917.4) |   325.0 it / s, 2282.9s ETA, aR  14.5% (  6.0%:   449   389 )\n",
      "Iter   672000 @  8.6400 | E = 487493.1 (E_path =  39984.4) |   335.6 it / s, 2168.9s ETA, aR  14.3% (  6.5%:   500   416 )\n",
      "Iter   686000 @  8.5700 | E = 485243.9 (E_path =  39755.2) |   335.9 it / s, 2125.7s ETA, aR  14.1% (  5.8%:   450   367 )\n",
      "Iter   700000 @  8.5000 | E = 483470.8 (E_path =  39680.0) |   349.2 it / s, 2004.9s ETA, aR  14.0% (  5.4%:   404   350 )\n",
      "Iter   714000 @  8.4300 | E = 481876.0 (E_path =  39526.1) |   346.2 it / s, 1981.7s ETA, aR  13.8% (  5.1%:   373   337 )\n",
      "Iter   728000 @  8.3600 | E = 479935.1 (E_path =  39388.7) |   336.9 it / s, 1994.5s ETA, aR  13.6% (  5.4%:   418   332 )\n",
      "Iter   742000 @  8.2900 | E = 478382.8 (E_path =  39404.0) |   327.6 it / s, 2008.2s ETA, aR  13.5% (  5.1%:   378   333 )\n",
      "Iter   756000 @  8.2200 | E = 476748.7 (E_path =  39429.9) |   341.7 it / s, 1884.8s ETA, aR  13.3% (  4.6%:   351   292 )\n",
      "Iter   770000 @  8.1500 | E = 474330.5 (E_path =  39273.7) |   335.6 it / s, 1877.2s ETA, aR  13.1% (  5.0%:   386   309 )\n",
      "Iter   784000 @  8.0800 | E = 472578.9 (E_path =  39197.0) |   347.4 it / s, 1773.3s ETA, aR  13.0% (  4.2%:   332   263 )\n",
      "Iter   798000 @  8.0100 | E = 470924.5 (E_path =  39073.3) |   354.1 it / s, 1700.1s ETA, aR  12.8% (  4.1%:   327   250 )\n",
      "Iter   812000 @  7.9400 | E = 468910.8 (E_path =  39073.3) |   347.8 it / s, 1690.7s ETA, aR  12.7% (  3.8%:   308   217 )\n",
      "Iter   826000 @  7.8700 | E = 468228.7 (E_path =  39103.9) |   344.1 it / s, 1668.2s ETA, aR  12.5% (  3.8%:   280   246 )\n",
      "Iter   840000 @  7.8000 | E = 466978.8 (E_path =  39007.2) |   353.3 it / s, 1585.1s ETA, aR  12.4% (  3.2%:   239   212 )\n",
      "Iter   854000 @  7.7300 | E = 465935.0 (E_path =  38943.2) |   340.3 it / s, 1604.3s ETA, aR  12.2% (  3.4%:   248   227 )\n",
      "Iter   868000 @  7.6600 | E = 465351.5 (E_path =  38975.7) |   351.5 it / s, 1513.4s ETA, aR  12.1% (  3.4%:   246   230 )\n",
      "Iter   882000 @  7.5900 | E = 464173.5 (E_path =  38896.1) |   344.4 it / s, 1504.2s ETA, aR  11.9% (  3.3%:   266   194 )\n",
      "Iter   896000 @  7.5200 | E = 463393.9 (E_path =  38788.1) |   356.7 it / s, 1413.1s ETA, aR  11.8% (  3.1%:   225   211 )\n",
      "Iter   910000 @  7.4500 | E = 461981.8 (E_path =  38771.6) |   344.1 it / s, 1424.1s ETA, aR  11.7% (  3.4%:   260   210 )\n",
      "Iter   924000 @  7.3800 | E = 460841.8 (E_path =  38705.8) |   346.0 it / s, 1375.5s ETA, aR  11.5% (  3.3%:   257   202 )\n",
      "Iter   938000 @  7.3100 | E = 459464.3 (E_path =  38612.1) |   344.2 it / s, 1342.2s ETA, aR  11.4% (  2.8%:   233   161 )\n",
      "Iter   952000 @  7.2400 | E = 458274.1 (E_path =  38561.4) |   336.9 it / s, 1329.6s ETA, aR  11.3% (  2.8%:   222   164 )\n",
      "Iter   966000 @  7.1700 | E = 457700.8 (E_path =  38578.7) |   349.3 it / s, 1242.5s ETA, aR  11.2% (  2.7%:   188   188 )\n",
      "Iter   980000 @  7.1000 | E = 456623.1 (E_path =  38574.3) |   353.4 it / s, 1188.3s ETA, aR  11.0% (  2.6%:   203   164 )\n",
      "Iter   994000 @  7.0300 | E = 455757.8 (E_path =  38532.1) |   334.5 it / s, 1213.8s ETA, aR  10.9% (  2.5%:   184   165 )\n",
      "Iter  1008000 @  6.9600 | E = 454990.9 (E_path =  38523.6) |   340.2 it / s, 1152.3s ETA, aR  10.8% (  2.3%:   171   152 )\n",
      "Iter  1022000 @  6.8900 | E = 454015.4 (E_path =  38481.8) |   352.1 it / s, 1073.6s ETA, aR  10.7% (  2.2%:   178   133 )\n",
      "Iter  1036000 @  6.8200 | E = 452823.1 (E_path =  38402.5) |   345.6 it / s, 1053.1s ETA, aR  10.6% (  2.1%:   164   129 )\n",
      "Iter  1050000 @  6.7500 | E = 451313.6 (E_path =  38345.1) |   349.8 it / s, 1000.4s ETA, aR  10.5% (  2.4%:   204   131 )\n",
      "Iter  1064000 @  6.6800 | E = 450410.3 (E_path =  38317.9) |   341.4 it / s, 984.2s ETA, aR  10.3% (  2.0%:   154   128 )\n",
      "Iter  1078000 @  6.6100 | E = 449766.0 (E_path =  38313.9) |   350.8 it / s, 918.0s ETA, aR  10.2% (  1.9%:   132   137 )\n",
      "Iter  1092000 @  6.5400 | E = 448991.8 (E_path =  38239.1) |   357.1 it / s, 862.6s ETA, aR  10.1% (  1.9%:   145   125 )\n",
      "Iter  1106000 @  6.4700 | E = 447918.5 (E_path =  38148.9) |   357.4 it / s, 822.6s ETA, aR  10.0% (  1.8%:   158    99 )\n",
      "Iter  1120000 @  6.4000 | E = 447351.5 (E_path =  38175.8) |   339.8 it / s, 824.0s ETA, aR   9.9% (  1.6%:   114   103 )\n",
      "Iter  1134000 @  6.3300 | E = 446693.7 (E_path =  38139.0) |   363.2 it / s, 732.5s ETA, aR   9.8% (  1.6%:   120    99 )\n",
      "Iter  1148000 @  6.2600 | E = 446548.3 (E_path =  38151.6) |   346.7 it / s, 727.0s ETA, aR   9.7% (  1.7%:   128   105 )\n",
      "Iter  1162000 @  6.1900 | E = 446339.8 (E_path =  38187.6) |   359.5 it / s, 662.0s ETA, aR   9.6% (  1.6%:   115   107 )\n",
      "Iter  1176000 @  6.1200 | E = 445608.1 (E_path =  38162.5) |   357.3 it / s, 626.8s ETA, aR   9.5% (  1.6%:   136    94 )\n",
      "Iter  1190000 @  6.0500 | E = 444754.3 (E_path =  38115.6) |   345.9 it / s, 607.2s ETA, aR   9.4% (  1.5%:   123    92 )\n",
      "Iter  1204000 @  5.9800 | E = 444108.3 (E_path =  38076.0) |   351.9 it / s, 557.0s ETA, aR   9.3% (  1.4%:   114    79 )\n",
      "Iter  1218000 @  5.9100 | E = 443840.4 (E_path =  38064.8) |   350.4 it / s, 519.4s ETA, aR   9.2% (  1.3%:    94    82 )\n",
      "Iter  1232000 @  5.8400 | E = 443297.3 (E_path =  38008.8) |   343.0 it / s, 489.9s ETA, aR   9.2% (  1.2%:    95    77 )\n",
      "Iter  1246000 @  5.7700 | E = 442498.0 (E_path =  38051.7) |   370.0 it / s, 416.2s ETA, aR   9.1% (  1.4%:   112    82 )\n",
      "Iter  1260000 @  5.7000 | E = 441862.2 (E_path =  38012.4) |   349.9 it / s, 400.1s ETA, aR   9.0% (  1.0%:    87    52 )\n",
      "Iter  1274000 @  5.6300 | E = 441628.1 (E_path =  37988.5) |   350.3 it / s, 359.7s ETA, aR   8.9% (  1.0%:    81    66 )\n",
      "Iter  1288000 @  5.5600 | E = 441058.3 (E_path =  37980.3) |   348.2 it / s, 321.6s ETA, aR   8.8% (  1.0%:    84    54 )\n",
      "Iter  1302000 @  5.4900 | E = 440681.0 (E_path =  38006.5) |   361.6 it / s, 271.0s ETA, aR   8.7% (  1.1%:    84    65 )\n",
      "Iter  1316000 @  5.4200 | E = 440226.5 (E_path =  37960.1) |   368.4 it / s, 228.0s ETA, aR   8.6% (  0.9%:    69    57 )\n",
      "Iter  1330000 @  5.3500 | E = 440205.1 (E_path =  37986.1) |   369.8 it / s, 189.3s ETA, aR   8.6% (  0.9%:    62    69 )\n",
      "Iter  1344000 @  5.2800 | E = 439835.7 (E_path =  37913.3) |   350.5 it / s, 159.8s ETA, aR   8.5% (  0.9%:    68    54 )\n",
      "Iter  1358000 @  5.2100 | E = 439365.2 (E_path =  37927.4) |   357.5 it / s, 117.5s ETA, aR   8.4% (  1.0%:    86    60 )\n",
      "Iter  1372000 @  5.1400 | E = 438757.2 (E_path =  37915.5) |   356.2 it / s,  78.6s ETA, aR   8.3% (  0.8%:    68    42 )\n",
      "Iter  1386000 @  5.0700 | E = 438231.3 (E_path =  37897.2) |   355.2 it / s,  39.4s ETA, aR   8.2% (  0.7%:    64    39 )\n",
      "Iter  1400000 @  5.0000 | E = 437792.4 (E_path =  37865.5) |   370.3 it / s,   0.0s ETA, aR   8.2% (  0.7%:    65    37 )\n"
     ]
    },
    {
     "data": {
      "text/plain": [
       "(Main.Alfheim.MCMCState1([0x02 0x02 … 0x01 0x01; 0x02 0x02 … 0x01 0x01; … ; 0x02 0x02 … 0x01 0x01; 0x02 0x02 … 0x01 0x01;;; 0x02 0x02 … 0x01 0x01; 0x02 0x02 … 0x01 0x01; … ; 0x02 0x02 … 0x01 0x01; 0x02 0x02 … 0x01 0x01;;; 0x02 0x02 … 0x01 0x01; 0x02 0x02 … 0x01 0x01; … ; 0x02 0x02 … 0x01 0x01; 0x02 0x02 … 0x01 0x01;;; … ;;; 0x02 0x02 … 0x01 0x01; 0x02 0x02 … 0x01 0x01; … ; 0x02 0x02 … 0x01 0x01; 0x02 0x02 … 0x01 0x01;;; 0x02 0x02 … 0x01 0x01; 0x02 0x02 … 0x01 0x01; … ; 0x02 0x02 … 0x01 0x01; 0x02 0x02 … 0x01 0x01;;; 0x02 0x02 … 0x01 0x01; 0x02 0x02 … 0x01 0x01; … ; 0x02 0x02 … 0x01 0x01; 0x02 0x02 … 0x01 0x01], Main.Alfheim.VoxelDifference([[55, 3, 34]], UInt8[0x02]), Main.Alfheim.VoxelGibbsDistribution(Main.Alfheim.AbstractEnergy[Main.Alfheim.BlockMargins([0.8035493827160494, 0.1964506172839506], 73984, Main.Alfheim.L2, Main.Alfheim.BlockMarginsState([59449, 14535], 1.5244903824570454e-5), Main.Alfheim.BlockMarginsState[Main.Alfheim.BlockMarginsState([59449, 14535], 1.5244903824570454e-5)]), Main.Alfheim.PatternMarginals(Dict{Array{UInt8}, Float64}([0x01 0x01; 0x02 0x01;;; 0x02 0x02; 0x02 0x02] => 0.00043402777777777775, [0x02 0x01; 0x02 0x02;;; 0x01 0x01; 0x01 0x02] => 5.425347222222222e-5, [0x01 0x01; 0x02 0x02;;; 0x01 0x02; 0x02 0x02] => 0.0002712673611111111, [0x02 0x01; 0x02 0x01;;; 0x02 0x02; 0x01 0x02] => 0.00010850694444444444, [0x02 0x02; 0x01 0x01;;; 0x02 0x01; 0x01 0x01] => 0.0005967881944444445, [0x01 0x02; 0x01 0x01;;; 0x02 0x02; 0x02 0x01] => 5.425347222222222e-5, [0x02 0x02; 0x01 0x02;;; 0x01 0x01; 0x01 0x01] => 5.425347222222222e-5, [0x01 0x01; 0x01 0x01;;; 0x01 0x01; 0x02 0x01] => 0.002875434027777778, [0x02 0x02; 0x01 0x01;;; 0x02 0x02; 0x01 0x01] => 0.017035590277777776, [0x02 0x02; 0x01 0x02;;; 0x02 0x02; 0x02 0x02] => 0.0002712673611111111…), Dict{Array{UInt8}, Int64}([0x01 0x01; 0x02 0x01;;; 0x02 0x02; 0x02 0x02] => 8, [0x02 0x01; 0x02 0x02;;; 0x01 0x01; 0x01 0x02] => 1, [0x01 0x01; 0x02 0x02;;; 0x01 0x02; 0x02 0x02] => 5, [0x02 0x01; 0x02 0x01;;; 0x02 0x02; 0x01 0x02] => 2, [0x02 0x02; 0x01 0x01;;; 0x02 0x01; 0x01 0x01] => 11, [0x01 0x02; 0x01 0x01;;; 0x02 0x02; 0x02 0x01] => 1, [0x02 0x02; 0x01 0x02;;; 0x01 0x01; 0x01 0x01] => 1, [0x01 0x01; 0x01 0x01;;; 0x01 0x01; 0x02 0x01] => 53, [0x02 0x02; 0x01 0x01;;; 0x02 0x02; 0x01 0x01] => 314, [0x02 0x02; 0x01 0x02;;; 0x02 0x02; 0x02 0x02] => 5…), 18432, 1.0e-5, 2, 1, 60984, Dict{Array{UInt8}, Int64}([0x01 0x01; 0x02 0x01;;; 0x02 0x02; 0x02 0x02] => 1, [0x02 0x01; 0x02 0x02;;; 0x01 0x01; 0x01 0x02] => 2, [0x01 0x01; 0x02 0x02;;; 0x01 0x02; 0x02 0x02] => 3, [0x02 0x01; 0x02 0x01;;; 0x02 0x02; 0x01 0x02] => 4, [0x02 0x02; 0x01 0x01;;; 0x02 0x01; 0x01 0x01] => 5, [0x01 0x02; 0x01 0x01;;; 0x02 0x02; 0x02 0x01] => 6, [0x02 0x02; 0x01 0x02;;; 0x01 0x01; 0x01 0x01] => 7, [0x01 0x01; 0x01 0x01;;; 0x01 0x01; 0x02 0x01] => 8, [0x02 0x02; 0x01 0x01;;; 0x02 0x02; 0x01 0x01] => 9, [0x02 0x02; 0x01 0x02;;; 0x02 0x02; 0x02 0x02] => 10…), [26.46875, 3.30859375, 16.54296875, 6.6171875, 36.39453125, 3.30859375, 3.30859375, 175.35546875, 1038.8984375, 16.54296875  …  3017.4375, 3.30859375, 26.46875, 6.6171875, 16.54296875, 132.34375, 175.35546875, 1038.8984375, 16.54296875, 0.0], Main.Alfheim.L2, 115.18385481071958, 0.005642826027912662, Main.Alfheim.PatternMarginalsState([23, 4, 17, 3, 46, 6, 8, 182, 408, 18  …  213, 16, 20, 5, 16, 97, 170, 415, 22, 339], 26.758096792949292), Main.Alfheim.PatternMarginalsState[Main.Alfheim.PatternMarginalsState([23, 4, 17, 3, 46, 6, 8, 182, 408, 18  …  213, 16, 20, 5, 16, 97, 170, 415, 22, 339], 26.758096792949292)]), Main.Alfheim.Patterns(Dict{Array{UInt8}, Float64}([0x02 0x02 0x02; 0x02 0x02 0x02; 0x02 0x02 0x02;;; 0x02 0x02 0x02; 0x02 0x02 0x02; 0x02 0x02 0x01;;; 0x02 0x02 0x02; 0x02 0x02 0x02; 0x02 0x02 0x02] => 0.00013071895424836603, [0x02 0x02 0x02; 0x02 0x02 0x02; 0x02 0x02 0x02;;; 0x01 0x01 0x02; 0x01 0x01 0x02; 0x02 0x02 0x02;;; 0x01 0x01 0x02; 0x01 0x01 0x02; 0x01 0x01 0x02] => 6.535947712418301e-5, [0x01 0x01 0x01; 0x02 0x02 0x02; 0x02 0x02 0x01;;; 0x01 0x01 0x01; 0x02 0x02 0x02; 0x02 0x02 0x02;;; 0x01 0x01 0x01; 0x02 0x02 0x02; 0x02 0x02 0x02] => 6.535947712418301e-5, [0x01 0x02 0x02; 0x01 0x02 0x02; 0x01 0x02 0x01;;; 0x01 0x02 0x02; 0x01 0x02 0x02; 0x01 0x02 0x01;;; 0x01 0x02 0x02; 0x01 0x02 0x02; 0x01 0x02 0x02] => 0.0005228758169934641, [0x01 0x01 0x01; 0x01 0x01 0x01; 0x02 0x02 0x02;;; 0x01 0x01 0x01; 0x01 0x01 0x01; 0x02 0x02 0x01;;; 0x01 0x01 0x01; 0x01 0x01 0x01; 0x02 0x02 0x01] => 6.535947712418301e-5, [0x02 0x02 0x01; 0x01 0x01 0x01; 0x01 0x01 0x02;;; 0x02 0x02 0x02; 0x01 0x01 0x02; 0x01 0x01 0x02;;; 0x02 0x02 0x01; 0x01 0x01 0x01; 0x01 0x01 0x01] => 6.535947712418301e-5, [0x01 0x01 0x01; 0x02 0x02 0x02; 0x02 0x02 0x02;;; 0x01 0x01 0x01; 0x02 0x02 0x02; 0x02 0x02 0x02;;; 0x01 0x01 0x01; 0x01 0x01 0x01; 0x01 0x01 0x01] => 0.0005228758169934641, [0x02 0x02 0x01; 0x02 0x02 0x01; 0x02 0x02 0x01;;; 0x02 0x02 0x02; 0x01 0x02 0x02; 0x01 0x02 0x02;;; 0x02 0x02 0x02; 0x01 0x02 0x02; 0x01 0x02 0x02] => 6.535947712418301e-5, [0x02 0x01 0x01; 0x02 0x02 0x02; 0x02 0x02 0x02;;; 0x02 0x01 0x02; 0x02 0x02 0x02; 0x02 0x02 0x02;;; 0x02 0x02 0x01; 0x02 0x02 0x02; 0x02 0x02 0x02] => 6.535947712418301e-5, [0x02 0x02 0x01; 0x02 0x02 0x01; 0x02 0x02 0x01;;; 0x02 0x02 0x01; 0x02 0x02 0x01; 0x02 0x02 0x01;;; 0x02 0x02 0x02; 0x02 0x02 0x01; 0x02 0x02 0x01] => 0.000196078431372549…), Dict{Array{UInt8}, Int64}([0x02 0x02 0x02; 0x02 0x02 0x02; 0x02 0x02 0x02;;; 0x02 0x02 0x02; 0x02 0x02 0x02; 0x02 0x02 0x01;;; 0x02 0x02 0x02; 0x02 0x02 0x02; 0x02 0x02 0x02] => 2, [0x02 0x02 0x02; 0x02 0x02 0x02; 0x02 0x02 0x02;;; 0x01 0x01 0x02; 0x01 0x01 0x02; 0x02 0x02 0x02;;; 0x01 0x01 0x02; 0x01 0x01 0x02; 0x01 0x01 0x02] => 1, [0x01 0x01 0x01; 0x02 0x02 0x02; 0x02 0x02 0x01;;; 0x01 0x01 0x01; 0x02 0x02 0x02; 0x02 0x02 0x02;;; 0x01 0x01 0x01; 0x02 0x02 0x02; 0x02 0x02 0x02] => 1, [0x01 0x02 0x02; 0x01 0x02 0x02; 0x01 0x02 0x01;;; 0x01 0x02 0x02; 0x01 0x02 0x02; 0x01 0x02 0x01;;; 0x01 0x02 0x02; 0x01 0x02 0x02; 0x01 0x02 0x02] => 8, [0x01 0x01 0x01; 0x01 0x01 0x01; 0x02 0x02 0x02;;; 0x01 0x01 0x01; 0x01 0x01 0x01; 0x02 0x02 0x01;;; 0x01 0x01 0x01; 0x01 0x01 0x01; 0x02 0x02 0x01] => 1, [0x02 0x02 0x01; 0x01 0x01 0x01; 0x01 0x01 0x02;;; 0x02 0x02 0x02; 0x01 0x01 0x02; 0x01 0x01 0x02;;; 0x02 0x02 0x01; 0x01 0x01 0x01; 0x01 0x01 0x01] => 1, [0x01 0x01 0x01; 0x02 0x02 0x02; 0x02 0x02 0x02;;; 0x01 0x01 0x01; 0x02 0x02 0x02; 0x02 0x02 0x02;;; 0x01 0x01 0x01; 0x01 0x01 0x01; 0x01 0x01 0x01] => 8, [0x02 0x02 0x01; 0x02 0x02 0x01; 0x02 0x02 0x01;;; 0x02 0x02 0x02; 0x01 0x02 0x02; 0x01 0x02 0x02;;; 0x02 0x02 0x02; 0x01 0x02 0x02; 0x01 0x02 0x02] => 1, [0x02 0x01 0x01; 0x02 0x02 0x02; 0x02 0x02 0x02;;; 0x02 0x01 0x02; 0x02 0x02 0x02; 0x02 0x02 0x02;;; 0x02 0x02 0x01; 0x02 0x02 0x02; 0x02 0x02 0x02] => 1, [0x02 0x02 0x01; 0x02 0x02 0x01; 0x02 0x02 0x01;;; 0x02 0x02 0x01; 0x02 0x02 0x01; 0x02 0x02 0x01;;; 0x02 0x02 0x02; 0x02 0x02 0x01; 0x02 0x02 0x01] => 3…), 15300, 1.0e-5, 3, 1, 612376.4757397906, 106.05412315883848), Main.Alfheim.Paths([10 3; 10 10;;; 10 10; 10 10;;;; 3 10; 10 10;;; 10 10; 10 10;;;;; 10 3; 10 10;;; 10 10; 10 10;;;; 3 10; 10 10;;; 10 10; 10 10;;;;; 10 3; 10 10;;; 10 10; 10 10;;;; 3 2; 2 2;;; 10 10; 10 10;;;;; 10 3; 10 10;;; 10 10; 10 10;;;; 3 2; 2 2;;; 10 10; 10 10;;;;; 10 3; 10 10;;; 10 10; 10 10;;;; 3 2; 2 2;;; 10 10; 10 10;;;;; 10 3; 10 10;;; 10 10; 10 10;;;; 3 2; 2 2;;; 10 10; 10 10], [3, 3, 3], [-2, -2, -2], [[24, 3, 2], [25, 3, 2], [26, 3, 2], [27, 3, 2], [28, 3, 2], [29, 3, 2], [30, 3, 2], [31, 3, 2], [32, 3, 2], [33, 3, 2]  …  [67, 3, 36], [67, 3, 37], [67, 3, 38], [67, 3, 39], [67, 3, 40], [67, 3, 41], [67, 3, 42], [67, 3, 43], [67, 3, 44], [67, 3, 45]], [[0, 0, 0], [0, -1, 0]], [0 0 … 0 0; 0 0 … 0 0; … ; 0 0 … 0 0; 0 0 … 0 0;;; 0 0 … 0 0; 0 0 … 0 0; … ; 0 0 … 0 0; 0 0 … 0 0;;; 0 0 … 0 0; 0 0 … 0 0; … ; 0 0 … 0 0; 0 0 … 0 0;;; … ;;; 0 0 … 0 0; 0 0 … 0 0; … ; 0 0 … 0 0; 0 0 … 0 0;;; 0 0 … 0 0; 0 0 … 0 0; … ; 0 0 … 0 0; 0 0 … 0 0;;; 0 0 … 0 0; 0 0 … 0 0; … ; 0 0 … 0 0; 0 0 … 0 0], Main.Alfheim.PathsState([1073741824 1073741824 … 1073741824 1073741824; 1073741824 1073741824 … 1073741824 1073741824; … ; 1073741824 1073741824 … 1073741824 1073741824; 1073741824 1073741824 … 1073741824 1073741824;;; 1073741824 1073741824 … 1073741824 1073741824; 1073741824 1073741824 … 1073741824 1073741824; … ; 1073741824 1073741824 … 1073741824 1073741824; 1073741824 1073741824 … 1073741824 1073741824;;; 1073741824 1073741824 … 1073741824 1073741824; 1073741824 1073741824 … 1073741824 1073741824; … ; 1073741824 1073741824 … 1073741824 1073741824; 1073741824 1073741824 … 1073741824 1073741824;;; … ;;; 1073741824 1073741824 … 1073741824 1073741824; 1073741824 1073741824 … 1073741824 1073741824; … ; 1073741824 1073741824 … 1073741824 1073741824; 1073741824 1073741824 … 1073741824 1073741824;;; 1073741824 1073741824 … 1073741824 1073741824; 1073741824 1073741824 … 1073741824 1073741824; … ; 1073741824 1073741824 … 1073741824 1073741824; 1073741824 1073741824 … 1073741824 1073741824;;; 1073741824 1073741824 … 1073741824 1073741824; 1073741824 1073741824 … 1073741824 1073741824; … ; 1073741824 1073741824 … 1073741824 1073741824; 1073741824 1073741824 … 1073741824 1073741824], [0x01 0x01 … 0x01 0x01; 0x01 0x01 … 0x01 0x01; … ; 0x01 0x01 … 0x01 0x01; 0x01 0x01 … 0x01 0x01;;; 0x01 0x01 … 0x01 0x01; 0x01 0x01 … 0x01 0x01; … ; 0x01 0x01 … 0x01 0x01; 0x01 0x01 … 0x01 0x01;;; 0x01 0x01 … 0x01 0x01; 0x01 0x01 … 0x01 0x01; … ; 0x01 0x01 … 0x01 0x01; 0x01 0x01 … 0x01 0x01;;; … ;;; 0x01 0x01 … 0x01 0x01; 0x01 0x01 … 0x01 0x01; … ; 0x01 0x01 … 0x01 0x01; 0x01 0x01 … 0x01 0x01;;; 0x01 0x01 … 0x01 0x01; 0x01 0x01 … 0x01 0x01; … ; 0x01 0x01 … 0x01 0x01; 0x01 0x01 … 0x01 0x01;;; 0x01 0x01 … 0x01 0x01; 0x01 0x01 … 0x01 0x01; … ; 0x01 0x01 … 0x01 0x01; 0x01 0x01 … 0x01 0x01]), Main.Alfheim.PathsState[Main.Alfheim.PathsState([1073741824 1073741824 … 1073741824 1073741824; 1073741824 1073741824 … 1073741824 1073741824; … ; 1073741824 1073741824 … 1073741824 1073741824; 1073741824 1073741824 … 1073741824 1073741824;;; 1073741824 1073741824 … 1073741824 1073741824; 1073741824 1073741824 … 1073741824 1073741824; … ; 1073741824 1073741824 … 1073741824 1073741824; 1073741824 1073741824 … 1073741824 1073741824;;; 1073741824 1073741824 … 1073741824 1073741824; 1073741824 1073741824 … 1073741824 1073741824; … ; 1073741824 1073741824 … 1073741824 1073741824; 1073741824 1073741824 … 1073741824 1073741824;;; … ;;; 1073741824 1073741824 … 1073741824 1073741824; 1073741824 1073741824 … 1073741824 1073741824; … ; 1073741824 1073741824 … 1073741824 1073741824; 1073741824 1073741824 … 1073741824 1073741824;;; 1073741824 1073741824 … 1073741824 1073741824; 1073741824 1073741824 … 1073741824 1073741824; … ; 1073741824 1073741824 … 1073741824 1073741824; 1073741824 1073741824 … 1073741824 1073741824;;; 1073741824 1073741824 … 1073741824 1073741824; 1073741824 1073741824 … 1073741824 1073741824; … ; 1073741824 1073741824 … 1073741824 1073741824; 1073741824 1073741824 … 1073741824 1073741824], [0x01 0x01 … 0x01 0x01; 0x01 0x01 … 0x01 0x01; … ; 0x01 0x01 … 0x01 0x01; 0x01 0x01 … 0x01 0x01;;; 0x01 0x01 … 0x01 0x01; 0x01 0x01 … 0x01 0x01; … ; 0x01 0x01 … 0x01 0x01; 0x01 0x01 … 0x01 0x01;;; 0x01 0x01 … 0x01 0x01; 0x01 0x01 … 0x01 0x01; … ; 0x01 0x01 … 0x01 0x01; 0x01 0x01 … 0x01 0x01;;; … ;;; 0x01 0x01 … 0x01 0x01; 0x01 0x01 … 0x01 0x01; … ; 0x01 0x01 … 0x01 0x01; 0x01 0x01 … 0x01 0x01;;; 0x01 0x01 … 0x01 0x01; 0x01 0x01 … 0x01 0x01; … ; 0x01 0x01 … 0x01 0x01; 0x01 0x01 … 0x01 0x01;;; 0x01 0x01 … 0x01 0x01; 0x01 0x01 … 0x01 0x01; … ; 0x01 0x01 … 0x01 0x01; 0x01 0x01 … 0x01 0x01])]), Main.Alfheim.Paths([1 0; 100 5;;; 1 0; 100 1;;; 1 0; 100 3;;; 1 0; 100 3;;; 1 0; 100 3;;; 1 0; 100 3], [3, 3, 3], [-2, -2, -2], [[1, 1, 1], [1, 1, 2], [1, 1, 3], [1, 1, 4], [1, 1, 5], [1, 1, 6], [1, 1, 7], [1, 1, 8], [1, 1, 9], [1, 1, 10]  …  [68, 2, 59], [68, 2, 60], [68, 2, 61], [68, 2, 62], [68, 2, 63], [68, 2, 64], [68, 2, 65], [68, 2, 66], [68, 2, 67], [68, 2, 68]], [[0, 0, 0]], [0 0 … 0 0; 0 0 … 0 0; … ; 0 0 … 0 0; 0 0 … 0 0;;; 0 0 … 0 0; 0 0 … 0 0; … ; 0 0 … 0 0; 0 0 … 0 0;;; 0 0 … 0 0; 0 0 … 0 0; … ; 0 0 … 0 0; 0 0 … 0 0;;; … ;;; 0 0 … 0 0; 0 0 … 0 0; … ; 0 0 … 0 0; 0 0 … 0 0;;; 0 0 … 0 0; 0 0 … 0 0; … ; 0 0 … 0 0; 0 0 … 0 0;;; 0 0 … 0 0; 0 0 … 0 0; … ; 0 0 … 0 0; 0 0 … 0 0], Main.Alfheim.PathsState([0 0 … 1073741824 1073741824; 0 0 … 1073741824 1073741824; … ; 0 0 … 1073741824 1073741824; 0 0 … 1073741824 1073741824;;; 0 0 … 1073741824 1073741824; 0 0 … 1073741824 1073741824; … ; 0 0 … 1073741824 1073741824; 0 0 … 1073741824 1073741824;;; 0 0 … 1073741824 1073741824; 0 0 … 1073741824 1073741824; … ; 0 0 … 1073741824 1073741824; 0 0 … 1073741824 1073741824;;; … ;;; 0 0 … 1073741824 1073741824; 0 0 … 1073741824 1073741824; … ; 0 0 … 1073741824 1073741824; 0 0 … 1073741824 1073741824;;; 0 0 … 1073741824 1073741824; 0 0 … 1073741824 1073741824; … ; 0 0 … 1073741824 1073741824; 0 0 … 1073741824 1073741824;;; 0 0 … 1073741824 1073741824; 0 0 … 1073741824 1073741824; … ; 0 0 … 1073741824 1073741824; 0 0 … 1073741824 1073741824], [0x01 0x01 … 0x01 0x01; 0x01 0x01 … 0x01 0x01; … ; 0x01 0x01 … 0x01 0x01; 0x01 0x01 … 0x01 0x01;;; 0x01 0x01 … 0x01 0x01; 0x01 0x01 … 0x01 0x01; … ; 0x01 0x01 … 0x01 0x01; 0x01 0x01 … 0x01 0x01;;; 0x01 0x01 … 0x01 0x01; 0x01 0x01 … 0x01 0x01; … ; 0x01 0x01 … 0x01 0x01; 0x01 0x01 … 0x01 0x01;;; … ;;; 0x01 0x01 … 0x01 0x01; 0x01 0x01 … 0x01 0x01; … ; 0x01 0x01 … 0x01 0x01; 0x01 0x01 … 0x01 0x01;;; 0x01 0x01 … 0x01 0x01; 0x01 0x01 … 0x01 0x01; … ; 0x01 0x01 … 0x01 0x01; 0x01 0x01 … 0x01 0x01;;; 0x01 0x01 … 0x01 0x01; 0x01 0x01 … 0x01 0x01; … ; 0x01 0x01 … 0x01 0x01; 0x01 0x01 … 0x01 0x01]), Main.Alfheim.PathsState[Main.Alfheim.PathsState([0 0 … 1073741824 1073741824; 0 0 … 1073741824 1073741824; … ; 0 0 … 1073741824 1073741824; 0 0 … 1073741824 1073741824;;; 0 0 … 1073741824 1073741824; 0 0 … 1073741824 1073741824; … ; 0 0 … 1073741824 1073741824; 0 0 … 1073741824 1073741824;;; 0 0 … 1073741824 1073741824; 0 0 … 1073741824 1073741824; … ; 0 0 … 1073741824 1073741824; 0 0 … 1073741824 1073741824;;; … ;;; 0 0 … 1073741824 1073741824; 0 0 … 1073741824 1073741824; … ; 0 0 … 1073741824 1073741824; 0 0 … 1073741824 1073741824;;; 0 0 … 1073741824 1073741824; 0 0 … 1073741824 1073741824; … ; 0 0 … 1073741824 1073741824; 0 0 … 1073741824 1073741824;;; 0 0 … 1073741824 1073741824; 0 0 … 1073741824 1073741824; … ; 0 0 … 1073741824 1073741824; 0 0 … 1073741824 1073741824], [0x01 0x01 … 0x01 0x01; 0x01 0x01 … 0x01 0x01; … ; 0x01 0x01 … 0x01 0x01; 0x01 0x01 … 0x01 0x01;;; 0x01 0x01 … 0x01 0x01; 0x01 0x01 … 0x01 0x01; … ; 0x01 0x01 … 0x01 0x01; 0x01 0x01 … 0x01 0x01;;; 0x01 0x01 … 0x01 0x01; 0x01 0x01 … 0x01 0x01; … ; 0x01 0x01 … 0x01 0x01; 0x01 0x01 … 0x01 0x01;;; … ;;; 0x01 0x01 … 0x01 0x01; 0x01 0x01 … 0x01 0x01; … ; 0x01 0x01 … 0x01 0x01; 0x01 0x01 … 0x01 0x01;;; 0x01 0x01 … 0x01 0x01; 0x01 0x01 … 0x01 0x01; … ; 0x01 0x01 … 0x01 0x01; 0x01 0x01 … 0x01 0x01;;; 0x01 0x01 … 0x01 0x01; 0x01 0x01 … 0x01 0x01; … ; 0x01 0x01 … 0x01 0x01; 0x01 0x01 … 0x01 0x01])])], [294912.0, 500.0, 1.03, 0.07, 0.13], [4.495905077596264, 13379.04839647464, 149847.85318782052, 236695.48000000193, 37865.49000000675], [-3.354529794069437, 2.821413013956331, 109.23574685360363, 0.0, 1.82]), Main.Alfheim.RandomBlockProposalAlwaysDifferent(Categorical{Float64, Vector{Float64}}(support=Base.OneTo(2), p=[0.5, 0.5]), 1, [3, 3, 3], [66, 14, 66], Categorical{P} where P<:Real[]), true), Main.Alfheim.Metropolis())"
      ]
     },
     "execution_count": 546,
     "metadata": {},
     "output_type": "execute_result"
    }
   ],
   "source": [
    "# tasks = []\n",
    "\n",
    "# for ti in 1:Threads.nthreads()\n",
    "#     push!(tasks, @spawn work([100 + 40 * ti, 65, 0]))\n",
    "# end\n",
    "mstate, opt = work([100, 65, 0])"
   ]
  },
  {
   "cell_type": "code",
   "execution_count": 547,
   "id": "9b53eb86-6961-48e5-b801-d230c74c99c1",
   "metadata": {},
   "outputs": [],
   "source": [
    "# interrupt()"
   ]
  },
  {
   "cell_type": "code",
   "execution_count": 548,
   "id": "1d0e26a7-bb43-4cf3-9123-4218bdbfbc02",
   "metadata": {},
   "outputs": [
    {
     "data": {
      "text/plain": [
       "0"
      ]
     },
     "execution_count": 548,
     "metadata": {},
     "output_type": "execute_result"
    }
   ],
   "source": [
    "flush()"
   ]
  },
  {
   "cell_type": "code",
   "execution_count": 549,
   "id": "66fd2e45-ee87-43af-87de-fed7b8b5f89a",
   "metadata": {},
   "outputs": [],
   "source": [
    "# pathsEnergy.state.dist[2:29, 9, 2:29]"
   ]
  },
  {
   "cell_type": "code",
   "execution_count": 550,
   "id": "86afe54a-d0cc-4459-9673-8d9afa804ed2",
   "metadata": {},
   "outputs": [],
   "source": [
    "# finaldist = copy(pathsEnergy.state.dist[2:29, 9:9, 2:29])\n",
    "# @show size(finaldist .* (256^3).+ 0x000000ff)\n",
    "# @show targetPos + [1, 8, 1]\n",
    "# refreshNd(finaldist .* 5 * (256^3) .+ 0x000000ff, targetPos + [1, 8, 1], false)"
   ]
  },
  {
   "cell_type": "code",
   "execution_count": 551,
   "id": "6078ffc4-8b21-4b71-9302-6f3be5cd7a79",
   "metadata": {},
   "outputs": [],
   "source": [
    "# refreshNd(zeros(28,28,28), targetPos + [0,9,0], true)"
   ]
  },
  {
   "cell_type": "code",
   "execution_count": 552,
   "id": "9114f9e5-e76c-4e4c-92ca-e96635e75e75",
   "metadata": {},
   "outputs": [],
   "source": [
    "# pathsEnergy.state"
   ]
  },
  {
   "cell_type": "code",
   "execution_count": 553,
   "id": "a8e6fe50-9c3f-4c49-8349-d6f686e40f79",
   "metadata": {},
   "outputs": [
    {
     "data": {
      "text/plain": [
       "recalcE (generic function with 1 method)"
      ]
     },
     "execution_count": 553,
     "metadata": {},
     "output_type": "execute_result"
    }
   ],
   "source": [
    "function recalcE()\n",
    "    # Gravity / support\n",
    "    costs = zeros(Int, Nb, Nb, 6)\n",
    "    costs[2:Nb, 2:Nb, 1] .= 5 # To solid, up\n",
    "    costs[2:Nb, 2:Nb, 2] .= 1 # To solid, down\n",
    "    costs[2:Nb, 2:Nb, 3:6] .= 3 # To solid, left / right / forward / back\n",
    "    costs[2:Nb, 1, 1:6] .= 100 # To air\n",
    "    costs[1, 1, 1:6] .= 1 # air -> air\n",
    "\n",
    "    # Arrays\n",
    "    dist = fill(Int(2^30), mcsize+2*padding, mcheight+2*padding, mcsize+2*padding)\n",
    "    dirc = ones(UInt8, mcsize+2*padding, mcheight+2*padding, mcsize+2*padding)\n",
    "\n",
    "    # Entrance\n",
    "    dist[:, 1:padding, :] .= 0\n",
    "    starts = []\n",
    "    for x in 1:mcsize+2*padding\n",
    "        for y in 1:padding\n",
    "            for z in 1:mcsize+2*padding\n",
    "                push!(starts, [x, y, z])\n",
    "            end\n",
    "        end\n",
    "    end\n",
    "\n",
    "    mstate.p.energy[end].cost = costs\n",
    "    mstate.p.energy[end].state.dist = dist\n",
    "    mstate.p.energy[end].state.dirc = dirc\n",
    "    mstate.p.energy[end].starts = starts\n",
    "    mstate.p.energy[end].minBounds = mstate.walker.boundsMin\n",
    "    mstate.p.energy[end].maxBounds = mstate.walker.boundsMax\n",
    "\n",
    "    mstate.p.energy[end](mstate)\n",
    "end"
   ]
  },
  {
   "cell_type": "code",
   "execution_count": 554,
   "id": "26b5d016-123e-4e29-894e-bf636a88f34b",
   "metadata": {},
   "outputs": [
    {
     "data": {
      "text/plain": [
       "(68, 13, 68)"
      ]
     },
     "execution_count": 554,
     "metadata": {},
     "output_type": "execute_result"
    }
   ],
   "source": [
    "# colors = @. (min(mstate.p.energy[end].state.dist[3:end-2, 3:end-2, 3:end-2] * 10, 255) .* 0x00010000 .+ 0x000000ff) .* (mstate.voxels[3:end-2, 3:end-2, 3:end-2] .- 1)\n",
    "colors = @. (min(mstate.p.energy[end-1].state.dist[1:end, 3:end-1, 1:end] * 2, 255) .* 0x01000000 .+ 0x000000ff) .* (mstate.voxels[1:end, 2:end-2, 1:end] .- 1)\n",
    "# colors = @. (min((mstate.p.energy[end].state.dirc[3:end-2, 3:end-2, 3:end-2] == 2) * 255, 255) .* 0x01000000 .+ 0x000000ff) .* (mstate.voxels[3:end-2, 3:end-2, 3:end-2] .- 1)\n",
    "\n",
    "# mstate.p.energy[end].state.dist[3:end-2, 3:end-2, 3:end-2]\n",
    "size(colors)"
   ]
  },
  {
   "cell_type": "code",
   "execution_count": 555,
   "id": "4ddf08a0-4d08-4c35-a168-b2e55e443606",
   "metadata": {},
   "outputs": [],
   "source": [
    "# refreshNd(colors, [100, 66, 0], true)\n",
    "# refreshNd(colors, [100, 65, 0] .+ 2, true)\n",
    "# refreshNd(bRep[mstate.voxels], [100, 65, 0], true)"
   ]
  },
  {
   "cell_type": "code",
   "execution_count": 556,
   "id": "aa20f60a-9d47-471d-9ea4-24be50bb61b9",
   "metadata": {},
   "outputs": [],
   "source": [
    "using Serialization\n",
    "Serialization.serialize(\"ElfTown.mstate\", mstate)"
   ]
  }
 ],
 "metadata": {
  "kernelspec": {
   "display_name": "Julia 1.7.0",
   "language": "julia",
   "name": "julia-1.7"
  },
  "language_info": {
   "file_extension": ".jl",
   "mimetype": "application/julia",
   "name": "julia",
   "version": "1.7.0"
  }
 },
 "nbformat": 4,
 "nbformat_minor": 5
}
