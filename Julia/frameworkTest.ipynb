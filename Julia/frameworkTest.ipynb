{
 "cells": [
  {
   "cell_type": "code",
   "execution_count": 1,
   "id": "739a568e-d3fb-43cd-b25f-5db3cfcda5dd",
   "metadata": {},
   "outputs": [
    {
     "data": {
      "text/plain": [
       "refreshNd (generic function with 2 methods)"
      ]
     },
     "execution_count": 1,
     "metadata": {},
     "output_type": "execute_result"
    }
   ],
   "source": [
    "import Base.Threads.@spawn\n",
    "\n",
    "using NPZ\n",
    "\n",
    "include(\"WGR-MCMClib/WGR.jl\")\n",
    "using .WGR\n",
    "\n",
    "include(\"WGR-MCMClib/Alfheim.jl\")\n",
    "using .Alfheim\n",
    "\n",
    "import Base.flush\n",
    "using Distributions\n",
    "\n",
    "using Formatting\n",
    "using Test\n",
    "\n",
    "# buf = WGR.BlockBuffer(32 * Threads.nthreads())\n",
    "buf = WGR.BlockBuffer(128)\n",
    "setBlocks(x,y,z,b) = WGR.setBlocks!(buf, x, y, z, b)\n",
    "flush() = WGR.flush!(buf)\n",
    "refreshNd(a,p,f = false) = WGR.refreshNd!(buf,a,p,f)"
   ]
  },
  {
   "cell_type": "code",
   "execution_count": 2,
   "id": "ea6ff07a-98f8-4973-b2e2-8093e9870fb8",
   "metadata": {},
   "outputs": [
    {
     "data": {
      "text/plain": [
       "testBFS (generic function with 1 method)"
      ]
     },
     "execution_count": 2,
     "metadata": {},
     "output_type": "execute_result"
    }
   ],
   "source": [
    "function testBFS()\n",
    "    Ntest = 10\n",
    "    Mtest = 1000\n",
    "\n",
    "    vox = rand(1:2, Ntest, Ntest, Ntest)\n",
    "    dist = fill(1000, Ntest, Ntest, Ntest)\n",
    "    dist[3, 2, 1] = 0\n",
    "    dirc = zeros(UInt8, Ntest, Ntest, Ntest)\n",
    "    visited = zeros(Bool, size(vox)...)\n",
    "    cost = ones(2, 2, 6)\n",
    "    cost[1,1,:] .= 1\n",
    "    cost[1,2,:] .= 5\n",
    "    cost[2,1,:] .= 1\n",
    "    cost[2,2,:] .= 5\n",
    "    minB = [2,2,2]\n",
    "    maxB = [-1,-1,-1]\n",
    "    starts = [[3,2,1]]\n",
    "\n",
    "    initialSum = sum(dist[2:end-1, 2:end-1, 2:end-1])\n",
    "\n",
    "    diff = Alfheim.BFS!(dist, dirc, vox, cost, starts, visited; minB = minB, maxBFromBoundary = maxB)\n",
    "    # @show dist\n",
    "    @show sum(dist[2:end-1, 2:end-1, 2:end-1])\n",
    "\n",
    "    for i in 1:Mtest\n",
    "        p = rand(2:(Ntest-1), 3)\n",
    "        vox[p...] = 2 - vox[p...] + 1 # Flip\n",
    "        starts = [p]\n",
    "        diff += Alfheim.BFS!(dist, dirc, vox, cost, starts, visited; minB = minB, maxBFromBoundary = maxB)\n",
    "    end\n",
    "\n",
    "    @show sum(dist[2:end-1, 2:end-1, 2:end-1])\n",
    "\n",
    "    # Re-calculate\n",
    "    dist = fill(1000, Ntest, Ntest, Ntest)\n",
    "    dist[3, 2, 1] = 0\n",
    "    dirc = zeros(UInt8, Ntest, Ntest, Ntest)\n",
    "    starts = [[3,2,1]]\n",
    "    Alfheim.BFSbad!(dist, dirc, vox, cost, starts, visited; minB = minB, maxBFromBoundary = maxB)\n",
    "    nextSum = sum(dist[2:end-1, 2:end-1, 2:end-1])\n",
    "\n",
    "    @show dist[2:end-1, 2:end-1, 2:end-1]\n",
    "    @show @test initialSum + diff == nextSum\n",
    "end"
   ]
  },
  {
   "cell_type": "code",
   "execution_count": 3,
   "id": "53870204-3c37-4354-b544-3e2a68bfe202",
   "metadata": {},
   "outputs": [
    {
     "data": {
      "text/plain": [
       "pad (generic function with 3 methods)"
      ]
     },
     "execution_count": 3,
     "metadata": {},
     "output_type": "execute_result"
    }
   ],
   "source": [
    "function pad(arr, padding = 1, content = 0)\n",
    "    padded = fill(content, size(arr) .+ padding * 2)\n",
    "    padded[1+padding:end-padding, 1+padding:end-padding, 1+padding:end-padding] = arr\n",
    "    return padded\n",
    "end"
   ]
  },
  {
   "cell_type": "code",
   "execution_count": 4,
   "id": "4f52cee0-0293-47d4-8889-624fdb935c34",
   "metadata": {},
   "outputs": [
    {
     "name": "stdout",
     "output_type": "stream",
     "text": [
      "(18, 20, 18)\n"
     ]
    }
   ],
   "source": [
    "monu10 = npzread(\"../Python/AlfheimMCMC/alfheimTest.npy\")\n",
    "monu10 = pad(monu10, 1, 0)\n",
    "shape = size(monu10)\n",
    "println(shape)"
   ]
  },
  {
   "cell_type": "code",
   "execution_count": 5,
   "id": "a6c3a5b3-1141-431c-9c5f-27a23d182393",
   "metadata": {},
   "outputs": [
    {
     "name": "stdout",
     "output_type": "stream",
     "text": [
      "bDict = Dict{UInt32, Array{Int64}}(0x00000000 => [1, 5207], 0x99ccccff => [2, 1273])\n"
     ]
    },
    {
     "data": {
      "text/plain": [
       "Categorical{Float64, Vector{Float64}}(support=Base.OneTo(2), p=[0.8035493827160494, 0.1964506172839506])"
      ]
     },
     "execution_count": 5,
     "metadata": {},
     "output_type": "execute_result"
    }
   ],
   "source": [
    "# Pre-process raw monu10 into palette'd monu10\n",
    "#Block Index\n",
    "function blockIndex(blocks)\n",
    "    blockDict = Dict{UInt32, Array{Int64}}(0 => [1, 0])\n",
    "    blockRep = [0]\n",
    "    for b in monu10\n",
    "        if !haskey(blockDict, b)\n",
    "            blockDict[b] = [length(blockDict) + 1, 0]\n",
    "            push!(blockRep, b)\n",
    "        end\n",
    "        blockDict[b][2] += 1\n",
    "    end\n",
    "    \n",
    "    return blockDict, blockRep\n",
    "end\n",
    "\n",
    "bDict, bRep = blockIndex(monu10)\n",
    "\n",
    "pmonu10 = [Alfheim.Block(bDict[b][1]) for b in monu10]\n",
    "\n",
    "# Hack\n",
    "pmonu10[pmonu10 .!= 1] .= 2\n",
    "bDict = filter(b -> last(b)[1] <= 2, bDict)\n",
    "@show bDict\n",
    "bRep = convert(Array{WGR.Block}, bRep[1:2])\n",
    "\n",
    "Nb = length(bDict)\n",
    "bTotal = sum([b[2] for b in values(bDict)])\n",
    "bDist = Categorical([bDict[bRep[b]][2] / bTotal for b in 1:Nb])"
   ]
  },
  {
   "cell_type": "code",
   "execution_count": 6,
   "id": "70293fef-6e26-4bfa-871f-da39bf0be597",
   "metadata": {},
   "outputs": [
    {
     "data": {
      "text/plain": [
       "0"
      ]
     },
     "execution_count": 6,
     "metadata": {},
     "output_type": "execute_result"
    }
   ],
   "source": [
    "refreshNd(bRep[pmonu10], [1, 65, 1], false)"
   ]
  },
  {
   "cell_type": "code",
   "execution_count": 8,
   "id": "0e91a531-eeee-40ab-9480-6632860998fa",
   "metadata": {},
   "outputs": [
    {
     "data": {
      "text/plain": [
       "18×20×18 Array{UInt8, 3}:\n",
       "[:, :, 1] =\n",
       " 0x01  0x01  0x01  0x01  0x01  0x01  …  0x01  0x01  0x01  0x01  0x01  0x01\n",
       " 0x01  0x01  0x01  0x01  0x01  0x01     0x01  0x01  0x01  0x01  0x01  0x01\n",
       " 0x01  0x01  0x01  0x01  0x01  0x01     0x01  0x01  0x01  0x01  0x01  0x01\n",
       " 0x01  0x01  0x01  0x01  0x01  0x01     0x01  0x01  0x01  0x01  0x01  0x01\n",
       " 0x01  0x01  0x01  0x01  0x01  0x01     0x01  0x01  0x01  0x01  0x01  0x01\n",
       " 0x01  0x01  0x01  0x01  0x01  0x01  …  0x01  0x01  0x01  0x01  0x01  0x01\n",
       " 0x01  0x01  0x01  0x01  0x01  0x01     0x01  0x01  0x01  0x01  0x01  0x01\n",
       " 0x01  0x01  0x01  0x01  0x01  0x01     0x01  0x01  0x01  0x01  0x01  0x01\n",
       " 0x01  0x01  0x01  0x01  0x01  0x01     0x01  0x01  0x01  0x01  0x01  0x01\n",
       " 0x01  0x01  0x01  0x01  0x01  0x01     0x01  0x01  0x01  0x01  0x01  0x01\n",
       " 0x01  0x01  0x01  0x01  0x01  0x01  …  0x01  0x01  0x01  0x01  0x01  0x01\n",
       " 0x01  0x01  0x01  0x01  0x01  0x01     0x01  0x01  0x01  0x01  0x01  0x01\n",
       " 0x01  0x01  0x01  0x01  0x01  0x01     0x01  0x01  0x01  0x01  0x01  0x01\n",
       " 0x01  0x01  0x01  0x01  0x01  0x01     0x01  0x01  0x01  0x01  0x01  0x01\n",
       " 0x01  0x01  0x01  0x01  0x01  0x01     0x01  0x01  0x01  0x01  0x01  0x01\n",
       " 0x01  0x01  0x01  0x01  0x01  0x01  …  0x01  0x01  0x01  0x01  0x01  0x01\n",
       " 0x01  0x01  0x01  0x01  0x01  0x01     0x01  0x01  0x01  0x01  0x01  0x01\n",
       " 0x01  0x01  0x01  0x01  0x01  0x01     0x01  0x01  0x01  0x01  0x01  0x01\n",
       "\n",
       "[:, :, 2] =\n",
       " 0x01  0x01  0x01  0x01  0x01  0x01  …  0x01  0x01  0x01  0x01  0x01  0x01\n",
       " 0x01  0x02  0x01  0x01  0x01  0x01     0x01  0x01  0x01  0x01  0x01  0x01\n",
       " 0x01  0x02  0x01  0x01  0x01  0x01     0x01  0x01  0x01  0x01  0x01  0x01\n",
       " 0x01  0x02  0x01  0x01  0x01  0x01     0x01  0x01  0x01  0x01  0x01  0x01\n",
       " 0x01  0x02  0x01  0x01  0x01  0x01     0x01  0x01  0x01  0x01  0x01  0x01\n",
       " 0x01  0x02  0x01  0x01  0x01  0x01  …  0x01  0x01  0x01  0x01  0x01  0x01\n",
       " 0x01  0x02  0x01  0x01  0x01  0x01     0x01  0x01  0x01  0x01  0x01  0x01\n",
       " 0x01  0x02  0x01  0x01  0x01  0x01     0x01  0x01  0x01  0x01  0x01  0x01\n",
       " 0x01  0x02  0x01  0x01  0x01  0x01     0x01  0x01  0x01  0x01  0x01  0x01\n",
       " 0x01  0x02  0x01  0x01  0x01  0x01     0x01  0x01  0x01  0x01  0x01  0x01\n",
       " 0x01  0x02  0x01  0x01  0x01  0x01  …  0x01  0x01  0x01  0x01  0x01  0x01\n",
       " 0x01  0x02  0x01  0x01  0x01  0x01     0x01  0x01  0x01  0x01  0x01  0x01\n",
       " 0x01  0x02  0x01  0x01  0x01  0x01     0x01  0x01  0x01  0x01  0x01  0x01\n",
       " 0x01  0x02  0x01  0x01  0x01  0x01     0x01  0x01  0x01  0x01  0x01  0x01\n",
       " 0x01  0x02  0x01  0x01  0x01  0x01     0x01  0x01  0x01  0x01  0x01  0x01\n",
       " 0x01  0x02  0x01  0x01  0x01  0x01  …  0x01  0x01  0x01  0x01  0x01  0x01\n",
       " 0x01  0x02  0x01  0x01  0x01  0x01     0x01  0x01  0x01  0x01  0x01  0x01\n",
       " 0x01  0x01  0x01  0x01  0x01  0x01     0x01  0x01  0x01  0x01  0x01  0x01\n",
       "\n",
       "[:, :, 3] =\n",
       " 0x01  0x01  0x01  0x01  0x01  0x01  …  0x01  0x01  0x01  0x01  0x01  0x01\n",
       " 0x01  0x02  0x01  0x01  0x01  0x01     0x01  0x01  0x01  0x01  0x01  0x01\n",
       " 0x01  0x02  0x01  0x01  0x01  0x01     0x01  0x01  0x01  0x01  0x01  0x01\n",
       " 0x01  0x02  0x01  0x01  0x01  0x01     0x01  0x01  0x01  0x01  0x01  0x01\n",
       " 0x01  0x02  0x01  0x01  0x01  0x01     0x01  0x01  0x01  0x01  0x01  0x01\n",
       " 0x01  0x02  0x01  0x01  0x01  0x01  …  0x01  0x01  0x01  0x01  0x01  0x01\n",
       " 0x01  0x02  0x01  0x01  0x01  0x01     0x01  0x01  0x01  0x01  0x01  0x01\n",
       " 0x01  0x02  0x01  0x01  0x01  0x01     0x01  0x01  0x01  0x01  0x01  0x01\n",
       " 0x01  0x02  0x01  0x01  0x01  0x01     0x01  0x01  0x01  0x01  0x01  0x01\n",
       " 0x01  0x02  0x01  0x01  0x01  0x01     0x01  0x01  0x01  0x01  0x01  0x01\n",
       " 0x01  0x02  0x01  0x01  0x01  0x01  …  0x01  0x01  0x01  0x01  0x01  0x01\n",
       " 0x01  0x02  0x01  0x01  0x01  0x01     0x01  0x01  0x01  0x01  0x01  0x01\n",
       " 0x01  0x02  0x01  0x01  0x01  0x01     0x01  0x01  0x01  0x01  0x01  0x01\n",
       " 0x01  0x02  0x01  0x01  0x01  0x01     0x01  0x01  0x01  0x01  0x01  0x01\n",
       " 0x01  0x02  0x01  0x01  0x01  0x01     0x01  0x01  0x01  0x01  0x01  0x01\n",
       " 0x01  0x02  0x01  0x01  0x01  0x01  …  0x01  0x01  0x01  0x01  0x01  0x01\n",
       " 0x01  0x02  0x01  0x01  0x01  0x01     0x01  0x01  0x01  0x01  0x01  0x01\n",
       " 0x01  0x01  0x01  0x01  0x01  0x01     0x01  0x01  0x01  0x01  0x01  0x01\n",
       "\n",
       ";;; … \n",
       "\n",
       "[:, :, 16] =\n",
       " 0x01  0x01  0x01  0x01  0x01  0x01  …  0x01  0x01  0x01  0x01  0x01  0x01\n",
       " 0x01  0x02  0x02  0x02  0x02  0x02     0x01  0x01  0x01  0x01  0x01  0x01\n",
       " 0x01  0x02  0x02  0x02  0x02  0x02     0x01  0x01  0x01  0x01  0x01  0x01\n",
       " 0x01  0x02  0x02  0x02  0x02  0x02     0x01  0x01  0x01  0x01  0x01  0x01\n",
       " 0x01  0x02  0x02  0x02  0x02  0x02     0x01  0x01  0x01  0x01  0x01  0x01\n",
       " 0x01  0x02  0x02  0x02  0x02  0x02  …  0x01  0x01  0x01  0x01  0x01  0x01\n",
       " 0x01  0x02  0x02  0x02  0x02  0x02     0x01  0x01  0x01  0x01  0x01  0x01\n",
       " 0x01  0x02  0x02  0x02  0x02  0x02     0x01  0x01  0x01  0x01  0x01  0x01\n",
       " 0x01  0x02  0x02  0x02  0x02  0x02     0x01  0x01  0x01  0x01  0x01  0x01\n",
       " 0x01  0x02  0x02  0x02  0x02  0x02     0x01  0x01  0x01  0x01  0x01  0x01\n",
       " 0x01  0x02  0x02  0x02  0x02  0x02  …  0x01  0x01  0x01  0x01  0x01  0x01\n",
       " 0x01  0x02  0x01  0x01  0x01  0x01     0x01  0x01  0x01  0x01  0x01  0x01\n",
       " 0x01  0x02  0x01  0x01  0x01  0x01     0x01  0x01  0x01  0x01  0x01  0x01\n",
       " 0x01  0x02  0x02  0x02  0x02  0x01     0x01  0x01  0x01  0x01  0x01  0x01\n",
       " 0x01  0x02  0x02  0x02  0x02  0x01     0x01  0x01  0x01  0x01  0x01  0x01\n",
       " 0x01  0x02  0x02  0x02  0x02  0x01  …  0x01  0x01  0x01  0x01  0x01  0x01\n",
       " 0x01  0x02  0x02  0x02  0x02  0x01     0x01  0x01  0x01  0x01  0x01  0x01\n",
       " 0x01  0x01  0x01  0x01  0x01  0x01     0x01  0x01  0x01  0x01  0x01  0x01\n",
       "\n",
       "[:, :, 17] =\n",
       " 0x01  0x01  0x01  0x01  0x01  0x01  …  0x01  0x01  0x01  0x01  0x01  0x01\n",
       " 0x01  0x02  0x02  0x02  0x02  0x02     0x01  0x01  0x01  0x01  0x01  0x01\n",
       " 0x01  0x02  0x02  0x02  0x02  0x02     0x01  0x01  0x01  0x01  0x01  0x01\n",
       " 0x01  0x02  0x02  0x02  0x02  0x02     0x01  0x01  0x01  0x01  0x01  0x01\n",
       " 0x01  0x02  0x02  0x02  0x02  0x02     0x01  0x01  0x01  0x01  0x01  0x01\n",
       " 0x01  0x02  0x02  0x02  0x02  0x02  …  0x01  0x01  0x01  0x01  0x01  0x01\n",
       " 0x01  0x02  0x02  0x02  0x02  0x02     0x01  0x01  0x01  0x01  0x01  0x01\n",
       " 0x01  0x02  0x02  0x02  0x02  0x02     0x01  0x01  0x01  0x01  0x01  0x01\n",
       " 0x01  0x02  0x02  0x02  0x02  0x02     0x01  0x01  0x01  0x01  0x01  0x01\n",
       " 0x01  0x02  0x02  0x02  0x02  0x02     0x01  0x01  0x01  0x01  0x01  0x01\n",
       " 0x01  0x02  0x02  0x02  0x02  0x02  …  0x01  0x01  0x01  0x01  0x01  0x01\n",
       " 0x01  0x02  0x01  0x01  0x01  0x01     0x01  0x01  0x01  0x01  0x01  0x01\n",
       " 0x01  0x02  0x01  0x01  0x01  0x01     0x01  0x01  0x01  0x01  0x01  0x01\n",
       " 0x01  0x02  0x01  0x01  0x01  0x01     0x01  0x01  0x01  0x01  0x01  0x01\n",
       " 0x01  0x02  0x02  0x02  0x02  0x02     0x01  0x01  0x01  0x01  0x01  0x01\n",
       " 0x01  0x02  0x02  0x02  0x02  0x02  …  0x01  0x01  0x01  0x01  0x01  0x01\n",
       " 0x01  0x02  0x02  0x02  0x02  0x02     0x01  0x01  0x01  0x01  0x01  0x01\n",
       " 0x01  0x01  0x01  0x01  0x01  0x01     0x01  0x01  0x01  0x01  0x01  0x01\n",
       "\n",
       "[:, :, 18] =\n",
       " 0x01  0x01  0x01  0x01  0x01  0x01  …  0x01  0x01  0x01  0x01  0x01  0x01\n",
       " 0x01  0x01  0x01  0x01  0x01  0x01     0x01  0x01  0x01  0x01  0x01  0x01\n",
       " 0x01  0x01  0x01  0x01  0x01  0x01     0x01  0x01  0x01  0x01  0x01  0x01\n",
       " 0x01  0x01  0x01  0x01  0x01  0x01     0x01  0x01  0x01  0x01  0x01  0x01\n",
       " 0x01  0x01  0x01  0x01  0x01  0x01     0x01  0x01  0x01  0x01  0x01  0x01\n",
       " 0x01  0x01  0x01  0x01  0x01  0x01  …  0x01  0x01  0x01  0x01  0x01  0x01\n",
       " 0x01  0x01  0x01  0x01  0x01  0x01     0x01  0x01  0x01  0x01  0x01  0x01\n",
       " 0x01  0x01  0x01  0x01  0x01  0x01     0x01  0x01  0x01  0x01  0x01  0x01\n",
       " 0x01  0x01  0x01  0x01  0x01  0x01     0x01  0x01  0x01  0x01  0x01  0x01\n",
       " 0x01  0x01  0x01  0x01  0x01  0x01     0x01  0x01  0x01  0x01  0x01  0x01\n",
       " 0x01  0x01  0x01  0x01  0x01  0x01  …  0x01  0x01  0x01  0x01  0x01  0x01\n",
       " 0x01  0x01  0x01  0x01  0x01  0x01     0x01  0x01  0x01  0x01  0x01  0x01\n",
       " 0x01  0x01  0x01  0x01  0x01  0x01     0x01  0x01  0x01  0x01  0x01  0x01\n",
       " 0x01  0x01  0x01  0x01  0x01  0x01     0x01  0x01  0x01  0x01  0x01  0x01\n",
       " 0x01  0x01  0x01  0x01  0x01  0x01     0x01  0x01  0x01  0x01  0x01  0x01\n",
       " 0x01  0x01  0x01  0x01  0x01  0x01  …  0x01  0x01  0x01  0x01  0x01  0x01\n",
       " 0x01  0x01  0x01  0x01  0x01  0x01     0x01  0x01  0x01  0x01  0x01  0x01\n",
       " 0x01  0x01  0x01  0x01  0x01  0x01     0x01  0x01  0x01  0x01  0x01  0x01"
      ]
     },
     "execution_count": 8,
     "metadata": {},
     "output_type": "execute_result"
    }
   ],
   "source": [
    "pmonu10"
   ]
  },
  {
   "cell_type": "code",
   "execution_count": 7,
   "id": "dbfe782d-88b9-4fb1-87e4-2e0eb71e8ee5",
   "metadata": {},
   "outputs": [
    {
     "data": {
      "text/plain": [
       "2"
      ]
     },
     "execution_count": 7,
     "metadata": {},
     "output_type": "execute_result"
    }
   ],
   "source": [
    "# Parameters\n",
    "# Ns = [2]       # Pattern size\n",
    "# Nweight = [500.0]\n",
    "step = 1    # Pattern stride\n",
    "mcsize = 64 # MCMC size (XZ)\n",
    "mcheight = 12 # MCMC height\n",
    "eps = 3e-4  # Epsilon\n",
    "# targetPosThreads = [[100 + 40 * , 65, 1]] # Where to put the mcmc\n",
    "nIters = 1400000\n",
    "\n",
    "bDistλ = mcsize^2 * mcheight * 6\n",
    "# bDistλ = 40\n",
    "\n",
    "Tstart = 12.0\n",
    "Tend = 5.0\n",
    "\n",
    "NDR = 2\n",
    "padding = 2"
   ]
  },
  {
   "cell_type": "code",
   "execution_count": 9,
   "id": "cbe3a369-b104-41fb-a391-fdf76229d5c8",
   "metadata": {},
   "outputs": [
    {
     "data": {
      "text/plain": [
       "initialize (generic function with 1 method)"
      ]
     },
     "execution_count": 9,
     "metadata": {},
     "output_type": "execute_result"
    }
   ],
   "source": [
    "function initialize()\n",
    "    # arr = [1 for x in 1:mcsize, y in 1:mcsize, z in 1:mcsize]\n",
    "    arr = Alfheim.Block[rand(bDist) for x in 1:mcsize, y in 1:mcheight, z in 1:mcsize]\n",
    "    # pst = [30, 40, 7]\n",
    "    # arr = pmonu10[[pst[i]:pst[i]+mcsize for i in 1:3]...]\n",
    "    arr = pad(arr, padding, 1)\n",
    "    # arr = copy(pmonu10)\n",
    "\n",
    "    # walker = Alfheim.RandomBlockProposal(\n",
    "    walker = Alfheim.RandomBlockProposalAlwaysDifferent(\n",
    "        # bDist,\n",
    "        Categorical([1 / Nb for i in 1:Nb]),\n",
    "        1,\n",
    "        [1, 1, 1] .+ padding,\n",
    "        [size(arr)[i] for i in 1:3] .- padding\n",
    "    )\n",
    "\n",
    "    # Readin patterns\n",
    "    patterns = [\n",
    "        Alfheim.PatternMarginals(2),\n",
    "        Alfheim.Patterns(3),\n",
    "    ]\n",
    "    pWeights = [\n",
    "        500.0,\n",
    "        1.03\n",
    "    ]\n",
    "    @time [Alfheim.readSlices!(p, pmonu10) for p in patterns]\n",
    "\n",
    "    ############# Create Paths energy\n",
    "\n",
    "    # Costs\n",
    "    costs = zeros(Int, Nb, Nb, Nb, Nb, 6)\n",
    "    \n",
    "    costs[1:Nb, 1:Nb, 1, 1, 1:6] .= 10 # -> Void\n",
    "    costs[1:Nb, 1:Nb, 2:Nb, 1:Nb, 1:6] .= 10 # -> Solid\n",
    "    \n",
    "    costs[1:Nb, 1:Nb, 1, 2:Nb, 1:2] .= 10 # -> Road, vertical (should not appear)\n",
    "    costs[1:Nb, 1:Nb, 1, 2:Nb, 3:6] .= 2 # -> Road, horizontal\n",
    "    \n",
    "    costs[1, 2:Nb, 1, 1, 1:6] .= 3 # Road -> Void (stairs)\n",
    "    costs[1, 1, 1, 2:Nb, 1:6] .= 3 # Void -> Road (stairs)\n",
    "    \n",
    "    # Test cost\n",
    "    # costs = zeros(Int, Nb, Nb, 6)\n",
    "    # costs[1:Nb, 1:Nb, 1:6] .= 1\n",
    "    \n",
    "    @show findall(x -> x>0, costs .== 0)\n",
    "\n",
    "    # Arrays\n",
    "    dist = fill(Int(2^30), size(arr))\n",
    "    dirc = ones(UInt8, size(arr)...)\n",
    "\n",
    "    # Entrance\n",
    "    entranceSize = mcsize ÷ 3\n",
    "    entranceStart = (mcsize + 2 * padding - entranceSize) ÷ 2 + 1\n",
    "    entranceEnd = entranceStart + entranceSize\n",
    "\n",
    "    # 4 Entries\n",
    "    starts = []\n",
    "    \n",
    "    dist[entranceStart:entranceEnd, 1:1 + padding, 1:padding] .= 0\n",
    "    starts = [starts; [[x, 1 + padding, padding] for x in entranceStart:entranceEnd]]\n",
    "    arr[entranceStart:entranceEnd, 1:padding, 1:padding] .= 2\n",
    "    \n",
    "    dist[1:padding, 1:1 + padding, entranceStart:entranceEnd] .= 0\n",
    "    starts = [starts; [[padding, 1 + padding, x] for x in entranceStart:entranceEnd]]\n",
    "    arr[1:padding, 1:padding, entranceStart:entranceEnd] .= 2\n",
    "    \n",
    "    dist[entranceStart:entranceEnd, 1:1 + padding, end:-1:end-padding+1] .= 0\n",
    "    starts = [starts; [[x, 1 + padding, size(arr)[3]-padding+1] for x in entranceStart:entranceEnd]]\n",
    "    arr[entranceStart:entranceEnd, 1:padding, end:-1:end-padding+1] .= 2\n",
    "    \n",
    "    dist[end:-1:end-padding+1, 1:1 + padding, entranceStart:entranceEnd] .= 0\n",
    "    starts = [starts; [[size(arr)[1]-padding+1, 1 + padding, x] for x in entranceStart:entranceEnd]]\n",
    "    arr[end:-1:end-padding+1, 1:padding, entranceStart:entranceEnd] .= 2\n",
    "\n",
    "    @show [1, 1, 1] .+ padding\n",
    "\n",
    "    # pathsEnergy = Alfheim.Paths(costs, starts, [[0,0,0]], walker.boundsMin, walker.boundsMax, dist, dirc)\n",
    "    pathsEnergy = Alfheim.Paths(costs, starts, [[0,0,0], [0,-1,0]], walker.boundsMin, walker.boundsMax, dist, dirc)\n",
    "    pathsWeight = 0.07\n",
    "\n",
    "    ############# Create gravity paths energy\n",
    "\n",
    "    # Gravity / support\n",
    "    costs = zeros(Int, Nb, Nb, 6)\n",
    "    costs[2:Nb, 2:Nb, 1] .= 5 # To solid, up\n",
    "    costs[2:Nb, 2:Nb, 2] .= 1 # To solid, down\n",
    "    costs[2:Nb, 2:Nb, 3:6] .= 3 # To solid, left / right / forward / back\n",
    "    costs[2:Nb, 1, 1:6] .= 100 # To air\n",
    "    costs[1, 1, 1:6] .= 1 # air -> air\n",
    "\n",
    "    # Arrays\n",
    "    dist = fill(Int(2^30), size(arr))\n",
    "    dirc = ones(UInt8, size(arr)...)\n",
    "\n",
    "    # Entrance\n",
    "    dist[:, 1:padding, :] .= 0\n",
    "    starts = []\n",
    "    for x in 1:size(arr)[1]\n",
    "        for y in 1:padding\n",
    "            for z in 1:size(arr)[3]\n",
    "                push!(starts, [x, y, z])\n",
    "            end\n",
    "        end\n",
    "    end\n",
    "\n",
    "    # Fill init voxels\n",
    "    arr[:, 1:padding, :] .= 2\n",
    "\n",
    "    pathsEnergyG = Alfheim.Paths(costs, starts, [[0,0,0]], walker.boundsMin, walker.boundsMax, dist, dirc)\n",
    "    pathsWeightG = 0.13\n",
    "\n",
    "    ###############################################################################################\n",
    "\n",
    "    mstate = Alfheim.createMCMCState(\n",
    "\n",
    "        # Initial voxels\n",
    "        arr,\n",
    "\n",
    "        # Energies\n",
    "        Alfheim.VoxelGibbsDistribution(\n",
    "            [\n",
    "                Alfheim.BlockMargins(bDist.p),\n",
    "                patterns...,\n",
    "                pathsEnergy,\n",
    "                pathsEnergyG,\n",
    "            ],\n",
    "            [\n",
    "                bDistλ,\n",
    "                pWeights...,\n",
    "                pathsWeight,\n",
    "                pathsWeightG,\n",
    "            ]\n",
    "        ),\n",
    "\n",
    "        # Walker\n",
    "        walker\n",
    "    )\n",
    "\n",
    "    opt = Alfheim.Metropolis()\n",
    "    # opt = Alfheim.ReversibleDRMetropolis(NDR)\n",
    "    \n",
    "    return mstate, opt\n",
    "end"
   ]
  },
  {
   "cell_type": "code",
   "execution_count": 9,
   "id": "75273330-d4c6-49c4-aec9-edd45e69f183",
   "metadata": {},
   "outputs": [
    {
     "data": {
      "text/html": [
       "# 2 methods for generic function <b>initSlices!</b>:<ul><li> initSlices!(sW::<b>Main.Alfheim.PatternMarginals</b>, nSlice) in Main.Alfheim at <a href=\"https://github.com/betairylia/unity-voxel-SC-WGRDemo/tree/f3efb0dee91d24aef730943cec1ed0646f6592ab//Julia/WGR-MCMClib/Slices.jl#L217\" target=\"_blank\">D:\\RP_Games\\UnityProj\\WGRDemo\\Julia\\WGR-MCMClib\\Slices.jl:217</a></li> <li> initSlices!(sW::<b>Main.Alfheim.Patterns</b>, nSlice::<b>Array{UInt8, 3}</b>) in Main.Alfheim at <a href=\"https://github.com/betairylia/unity-voxel-SC-WGRDemo/tree/f3efb0dee91d24aef730943cec1ed0646f6592ab//Julia/WGR-MCMClib/Slices.jl#L115\" target=\"_blank\">D:\\RP_Games\\UnityProj\\WGRDemo\\Julia\\WGR-MCMClib\\Slices.jl:115</a></li> </ul>"
      ],
      "text/plain": [
       "# 2 methods for generic function \"initSlices!\":\n",
       "[1] initSlices!(sW::Main.Alfheim.PatternMarginals, nSlice) in Main.Alfheim at D:\\RP_Games\\UnityProj\\WGRDemo\\Julia\\WGR-MCMClib\\Slices.jl:217\n",
       "[2] initSlices!(sW::Main.Alfheim.Patterns, nSlice::Array{UInt8, 3}) in Main.Alfheim at D:\\RP_Games\\UnityProj\\WGRDemo\\Julia\\WGR-MCMClib\\Slices.jl:115"
      ]
     },
     "execution_count": 9,
     "metadata": {},
     "output_type": "execute_result"
    }
   ],
   "source": [
    "methods(Alfheim.initSlices!)"
   ]
  },
  {
   "cell_type": "code",
   "execution_count": 10,
   "id": "7c31f953-18a4-4225-b5f7-7005d8440495",
   "metadata": {},
   "outputs": [
    {
     "data": {
      "text/plain": [
       "generate (generic function with 1 method)"
      ]
     },
     "execution_count": 10,
     "metadata": {},
     "output_type": "execute_result"
    }
   ],
   "source": [
    "function generate(mstate, opt, targetPos)\n",
    "    \n",
    "    # targetPos = targetPosThreads[threadID]\n",
    "    \n",
    "    flush()\n",
    "    height = size(mstate.voxels)[2]\n",
    "    # for p in starts\n",
    "    #     setBlocks((p + targetPos .- 1)..., 0xff553388)\n",
    "    # end\n",
    "    flush()\n",
    "\n",
    "    Alfheim.init!(mstate)\n",
    "    rejected = 0\n",
    "\n",
    "    sTime = time_ns()\n",
    "\n",
    "    accept_count = zeros(NDR,)\n",
    "    flush(stdout)\n",
    "    \n",
    "    # Show initial voxels\n",
    "    # refreshNd(bRep[mstate.voxels], targetPos, true)\n",
    "    for x in 1:size(mstate.voxels)[1], y in 1:size(mstate.voxels)[2], z in 1:size(mstate.voxels)[3]\n",
    "        p = [x, y, z]\n",
    "        b = mstate.voxels[p...]\n",
    "        setBlocks((p + targetPos .- 1)..., WGR.darken(bRep[b], ((height - p[2]) / height) * 0.75))\n",
    "    end\n",
    "    \n",
    "    # MCMC Iterations\n",
    "    for it in 1:nIters\n",
    "\n",
    "        T = (Tstart - Tend) * (1 - (it / nIters)) + Tend\n",
    "        accepted, ds = Alfheim.step!(opt, mstate; temperature = T)\n",
    "\n",
    "        if (accepted > 0)\n",
    "            accept_count[accepted] += 1\n",
    "            for (p, b) in zip(ds.pos, ds.blk)\n",
    "                setBlocks((p + targetPos .- 1)..., WGR.darken(bRep[b], ((height - p[2]) / height) * 0.75))\n",
    "            end\n",
    "        else\n",
    "            rejected += 1\n",
    "        end\n",
    "\n",
    "        if it % (div(nIters, 100)) == 0\n",
    "            eTime = time_ns()\n",
    "\n",
    "            iter_s = div(nIters, 100) / (eTime - sTime) * 1e9\n",
    "            ETA = (nIters - it) / iter_s\n",
    "\n",
    "            printfmt(\"Iter {:8d} @ {:7.4f} | E = {:8.1f} (E_path = {:8.1f}) | {:7.1f} it / s, {:5.1f}s ETA, aR {:5.1f}% ({:5.1f}%: \", \n",
    "                it, T, sum(mstate.p.E), mstate.p.E[end], iter_s, ETA, \n",
    "                (it - rejected) / it * 100.0,\n",
    "                (sum(accept_count)) / div(nIters, 100) * 100.0)\n",
    "            [printfmt(\"{:5d} \", accept_count[i]) for i in 1:NDR]\n",
    "            print(\")\\n\")\n",
    "\n",
    "            flush()\n",
    "            flush(stdout)\n",
    "\n",
    "            sTime = time_ns()\n",
    "            # last_accd = it - rejected\n",
    "            accept_count = zeros(NDR,)\n",
    "        end\n",
    "\n",
    "        # flush(stdout)\n",
    "    end\n",
    "\n",
    "    flush()\n",
    "end"
   ]
  },
  {
   "cell_type": "code",
   "execution_count": 11,
   "id": "da686df4-d5a3-4849-8a7f-3be8d00c58e1",
   "metadata": {},
   "outputs": [
    {
     "data": {
      "text/plain": [
       "work (generic function with 1 method)"
      ]
     },
     "execution_count": 11,
     "metadata": {},
     "output_type": "execute_result"
    }
   ],
   "source": [
    "mstate = nothing\n",
    "opt = nothing\n",
    "\n",
    "function work(targetPos)\n",
    "    m, o = initialize()\n",
    "    \n",
    "    mstate = m\n",
    "    opt = o\n",
    "    \n",
    "    generate(m, o, targetPos)\n",
    "    return m, o\n",
    "end"
   ]
  },
  {
   "cell_type": "code",
   "execution_count": null,
   "id": "3ea329ae-156c-4d08-a423-8b896267a1e8",
   "metadata": {},
   "outputs": [
    {
     "name": "stdout",
     "output_type": "stream",
     "text": [
      "  0.382919 seconds (777.80 k allocations: 43.677 MiB, 5.94% gc time, 96.31% compilation time)\n",
      "findall((x->begin\n",
      "            #= In[8]:47 =#\n",
      "            x > 0\n",
      "        end), costs .== 0) = CartesianIndex{5}[]\n",
      "[1, 1, 1] .+ padding = [3, 3, 3]\n",
      "sW.reference[1:10] = [26.46875, 3.30859375, 16.54296875, 6.6171875, 36.39453125, 3.30859375, 3.30859375, 175.35546875, 1038.8984375, 16.54296875]\n",
      "sW.state.MCMCslicesCount[1:10] = [7, 33, 6, 7, 101, 28, 127, 2447, 26, 0]\n",
      "sW.state.E = 116.74786711879938\n",
      "sW.MCMCnumSlices = 60984\n",
      "Iter    14000 @ 11.9300 | E = 1035262.6 (E_path = 122074.4) |   240.8 it / s, 5754.8s ETA, aR  34.0% ( 34.0%:  3058  1702 )\n",
      "Iter    28000 @ 11.8600 | E = 985786.7 (E_path = 100073.5) |   262.1 it / s, 5233.9s ETA, aR  33.3% ( 32.6%:  2782  1782 )\n",
      "Iter    42000 @ 11.7900 | E = 946228.1 (E_path =  84563.7) |   263.1 it / s, 5161.4s ETA, aR  32.4% ( 30.6%:  2486  1801 )\n",
      "Iter    56000 @ 11.7200 | E = 912134.4 (E_path =  74083.0) |   261.6 it / s, 5137.2s ETA, aR  31.9% ( 30.3%:  2367  1869 )\n",
      "Iter    70000 @ 11.6500 | E = 883734.9 (E_path =  67554.4) |   266.0 it / s, 4999.5s ETA, aR  31.1% ( 27.8%:  2182  1717 )\n",
      "Iter    84000 @ 11.5800 | E = 856679.9 (E_path =  63173.4) |   278.0 it / s, 4734.4s ETA, aR  30.5% ( 27.4%:  2098  1738 )\n",
      "Iter    98000 @ 11.5100 | E = 833545.0 (E_path =  60449.9) |   276.2 it / s, 4714.8s ETA, aR  29.8% ( 26.1%:  2016  1638 )\n",
      "Iter   112000 @ 11.4400 | E = 812185.8 (E_path =  58142.0) |   275.7 it / s, 4672.5s ETA, aR  29.2% ( 25.1%:  1902  1613 )\n",
      "Iter   126000 @ 11.3700 | E = 792158.1 (E_path =  56285.1) |   281.9 it / s, 4518.6s ETA, aR  28.7% ( 24.1%:  1872  1497 )\n",
      "Iter   140000 @ 11.3000 | E = 774138.4 (E_path =  55038.2) |   275.8 it / s, 4568.6s ETA, aR  28.1% ( 23.0%:  1769  1453 )\n",
      "Iter   154000 @ 11.2300 | E = 754029.7 (E_path =  53453.8) |   272.5 it / s, 4572.8s ETA, aR  27.6% ( 22.5%:  1718  1438 )\n",
      "Iter   168000 @ 11.1600 | E = 735445.1 (E_path =  51884.0) |   283.3 it / s, 4348.2s ETA, aR  27.1% ( 21.6%:  1696  1335 )\n"
     ]
    }
   ],
   "source": [
    "# tasks = []\n",
    "\n",
    "# for ti in 1:Threads.nthreads()\n",
    "#     push!(tasks, @spawn work([100 + 40 * ti, 65, 0]))\n",
    "# end\n",
    "mstate, opt = work([100, 65, 0])"
   ]
  },
  {
   "cell_type": "code",
   "execution_count": null,
   "id": "9b53eb86-6961-48e5-b801-d230c74c99c1",
   "metadata": {},
   "outputs": [],
   "source": [
    "# interrupt()"
   ]
  },
  {
   "cell_type": "code",
   "execution_count": null,
   "id": "1d0e26a7-bb43-4cf3-9123-4218bdbfbc02",
   "metadata": {},
   "outputs": [],
   "source": [
    "flush()"
   ]
  },
  {
   "cell_type": "code",
   "execution_count": null,
   "id": "66fd2e45-ee87-43af-87de-fed7b8b5f89a",
   "metadata": {},
   "outputs": [],
   "source": [
    "# pathsEnergy.state.dist[2:29, 9, 2:29]"
   ]
  },
  {
   "cell_type": "code",
   "execution_count": null,
   "id": "86afe54a-d0cc-4459-9673-8d9afa804ed2",
   "metadata": {},
   "outputs": [],
   "source": [
    "# finaldist = copy(pathsEnergy.state.dist[2:29, 9:9, 2:29])\n",
    "# @show size(finaldist .* (256^3).+ 0x000000ff)\n",
    "# @show targetPos + [1, 8, 1]\n",
    "# refreshNd(finaldist .* 5 * (256^3) .+ 0x000000ff, targetPos + [1, 8, 1], false)"
   ]
  },
  {
   "cell_type": "code",
   "execution_count": null,
   "id": "6078ffc4-8b21-4b71-9302-6f3be5cd7a79",
   "metadata": {},
   "outputs": [],
   "source": [
    "# refreshNd(zeros(28,28,28), targetPos + [0,9,0], true)"
   ]
  },
  {
   "cell_type": "code",
   "execution_count": null,
   "id": "9114f9e5-e76c-4e4c-92ca-e96635e75e75",
   "metadata": {},
   "outputs": [],
   "source": [
    "# pathsEnergy.state"
   ]
  },
  {
   "cell_type": "code",
   "execution_count": null,
   "id": "a8e6fe50-9c3f-4c49-8349-d6f686e40f79",
   "metadata": {},
   "outputs": [],
   "source": [
    "function recalcE()\n",
    "    # Gravity / support\n",
    "    costs = zeros(Int, Nb, Nb, 6)\n",
    "    costs[2:Nb, 2:Nb, 1] .= 5 # To solid, up\n",
    "    costs[2:Nb, 2:Nb, 2] .= 1 # To solid, down\n",
    "    costs[2:Nb, 2:Nb, 3:6] .= 3 # To solid, left / right / forward / back\n",
    "    costs[2:Nb, 1, 1:6] .= 100 # To air\n",
    "    costs[1, 1, 1:6] .= 1 # air -> air\n",
    "\n",
    "    # Arrays\n",
    "    dist = fill(Int(2^30), mcsize+2*padding, mcheight+2*padding, mcsize+2*padding)\n",
    "    dirc = ones(UInt8, mcsize+2*padding, mcheight+2*padding, mcsize+2*padding)\n",
    "\n",
    "    # Entrance\n",
    "    dist[:, 1:padding, :] .= 0\n",
    "    starts = []\n",
    "    for x in 1:mcsize+2*padding\n",
    "        for y in 1:padding\n",
    "            for z in 1:mcsize+2*padding\n",
    "                push!(starts, [x, y, z])\n",
    "            end\n",
    "        end\n",
    "    end\n",
    "\n",
    "    mstate.p.energy[end].cost = costs\n",
    "    mstate.p.energy[end].state.dist = dist\n",
    "    mstate.p.energy[end].state.dirc = dirc\n",
    "    mstate.p.energy[end].starts = starts\n",
    "    mstate.p.energy[end].minBounds = mstate.walker.boundsMin\n",
    "    mstate.p.energy[end].maxBounds = mstate.walker.boundsMax\n",
    "\n",
    "    mstate.p.energy[end](mstate)\n",
    "end"
   ]
  },
  {
   "cell_type": "code",
   "execution_count": null,
   "id": "26b5d016-123e-4e29-894e-bf636a88f34b",
   "metadata": {},
   "outputs": [],
   "source": [
    "# colors = @. (min(mstate.p.energy[end].state.dist[3:end-2, 3:end-2, 3:end-2] * 10, 255) .* 0x00010000 .+ 0x000000ff) .* (mstate.voxels[3:end-2, 3:end-2, 3:end-2] .- 1)\n",
    "colors = @. (min(mstate.p.energy[end-1].state.dist[1:end, 3:end-1, 1:end] * 2, 255) .* 0x01000000 .+ 0x000000ff) .* (mstate.voxels[1:end, 2:end-2, 1:end] .- 1)\n",
    "# colors = @. (min((mstate.p.energy[end].state.dirc[3:end-2, 3:end-2, 3:end-2] == 2) * 255, 255) .* 0x01000000 .+ 0x000000ff) .* (mstate.voxels[3:end-2, 3:end-2, 3:end-2] .- 1)\n",
    "\n",
    "# mstate.p.energy[end].state.dist[3:end-2, 3:end-2, 3:end-2]\n",
    "size(colors)"
   ]
  },
  {
   "cell_type": "code",
   "execution_count": null,
   "id": "4ddf08a0-4d08-4c35-a168-b2e55e443606",
   "metadata": {},
   "outputs": [],
   "source": [
    "# refreshNd(colors, [100, 66, 0], true)\n",
    "# refreshNd(colors, [100, 65, 0] .+ 2, true)\n",
    "# refreshNd(bRep[mstate.voxels], [100, 65, 0], true)"
   ]
  },
  {
   "cell_type": "code",
   "execution_count": null,
   "id": "aa20f60a-9d47-471d-9ea4-24be50bb61b9",
   "metadata": {},
   "outputs": [],
   "source": [
    "using Serialization\n",
    "Serialization.serialize(\"ElfTown.mstate\", mstate)"
   ]
  }
 ],
 "metadata": {
  "kernelspec": {
   "display_name": "Julia 1.7.0",
   "language": "julia",
   "name": "julia-1.7"
  },
  "language_info": {
   "file_extension": ".jl",
   "mimetype": "application/julia",
   "name": "julia",
   "version": "1.7.0"
  }
 },
 "nbformat": 4,
 "nbformat_minor": 5
}
