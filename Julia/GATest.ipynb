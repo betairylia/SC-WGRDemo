{
 "cells": [
  {
   "cell_type": "code",
   "execution_count": 448,
   "id": "8441f5d1-5ab1-49f1-bc7f-5adb1971efb8",
   "metadata": {},
   "outputs": [
    {
     "name": "stderr",
     "output_type": "stream",
     "text": [
      "WARNING: replacing module WGR.\n",
      "WARNING: replacing module Alfheim.\n",
      "WARNING: replacing module AlfheimG.\n"
     ]
    },
    {
     "data": {
      "text/plain": [
       "refreshNd (generic function with 2 methods)"
      ]
     },
     "execution_count": 448,
     "metadata": {},
     "output_type": "execute_result"
    }
   ],
   "source": [
    "import Base.Threads.@spawn\n",
    "\n",
    "using NPZ\n",
    "\n",
    "include(\"WGR-MCMClib/WGR.jl\")\n",
    "using .WGR\n",
    "\n",
    "include(\"WGR-MCMClib/Alfheim.jl\")\n",
    "using .Alfheim\n",
    "\n",
    "include(\"WGR-GAlib/Species.jl\")\n",
    "using .AlfheimG\n",
    "\n",
    "import Base.flush\n",
    "using Distributions\n",
    "\n",
    "using Formatting\n",
    "using Test\n",
    "using Random\n",
    "\n",
    "# buf = WGR.BlockBuffer(32 * Threads.nthreads())\n",
    "buf = WGR.BlockBuffer(128)\n",
    "setBlocks(x,y,z,b) = WGR.setBlocks!(buf, x, y, z, b)\n",
    "flush() = WGR.flush!(buf)\n",
    "refreshNd(a,p,f = false) = WGR.refreshNd!(buf,a,p,f)"
   ]
  },
  {
   "cell_type": "code",
   "execution_count": 449,
   "id": "66ddb3d1-83fa-4e79-a556-760f55a37956",
   "metadata": {},
   "outputs": [
    {
     "data": {
      "text/plain": [
       "4-element Vector{UInt32}:\n",
       " 0x00000000\n",
       " 0xba8d65ff\n",
       " 0x3155a6ff\n",
       " 0x96c78cff"
      ]
     },
     "execution_count": 449,
     "metadata": {},
     "output_type": "execute_result"
    }
   ],
   "source": [
    "mapsize = 32\n",
    "mapheight = 16\n",
    "bRep = [0x00000000, 0xBA8D65FF, 0x3155A6FF, 0x96C78CFF]"
   ]
  },
  {
   "cell_type": "code",
   "execution_count": 450,
   "id": "4660ea60-c8b2-4547-a3fa-4529d2517293",
   "metadata": {
    "tags": []
   },
   "outputs": [
    {
     "name": "stdout",
     "output_type": "stream",
     "text": [
      "findall((x->begin\n",
      "            #= In[450]:27 =#\n",
      "            x > 0\n",
      "        end), costs .== 0) = CartesianIndex{5}[]\n",
      "[1, 1, 1] .+ padding = [3, 3, 3]\n"
     ]
    },
    {
     "data": {
      "text/plain": [
       "Main.Alfheim.VoxelGibbsDistribution(Main.Alfheim.AbstractEnergy[Main.Alfheim.BlockPropotion(0.7, 0x01, 0, Main.Alfheim.L2, Main.Alfheim.BlockPropotionState(0, 0.0), Main.Alfheim.BlockPropotionState[]), Main.Alfheim.Paths([10 3 3 3; 10 10 10 10; 10 10 10 10; 10 10 10 10;;; 10 10 10 10; 10 10 10 10; 10 10 10 10; 10 10 10 10;;; 10 10 10 10; 10 10 10 10; 10 10 10 10; 10 10 10 10;;; 10 10 10 10; 10 10 10 10; 10 10 10 10; 10 10 10 10;;;; 3 10 10 10; 10 10 10 10; 10 10 10 10; 10 10 10 10;;; 10 10 10 10; 10 10 10 10; 10 10 10 10; 10 10 10 10;;; 10 10 10 10; 10 10 10 10; 10 10 10 10; 10 10 10 10;;; 10 10 10 10; 10 10 10 10; 10 10 10 10; 10 10 10 10;;;; 3 10 10 10; 10 10 10 10; 10 10 10 10; 10 10 10 10;;; 10 10 10 10; 10 10 10 10; 10 10 10 10; 10 10 10 10;;; 10 10 10 10; 10 10 10 10; 10 10 10 10; 10 10 10 10;;; 10 10 10 10; 10 10 10 10; 10 10 10 10; 10 10 10 10;;;; 3 10 10 10; 10 10 10 10; 10 10 10 10; 10 10 10 10;;; 10 10 10 10; 10 10 10 10; 10 10 10 10; 10 10 10 10;;; 10 10 10 10; 10 10 10 10; 10 10 10 10; 10 10 10 10;;; 10 10 10 10; 10 10 10 10; 10 10 10 10; 10 10 10 10;;;;; 10 3 3 3; 10 10 10 10; 10 10 10 10; 10 10 10 10;;; 10 10 10 10; 10 10 10 10; 10 10 10 10; 10 10 10 10;;; 10 10 10 10; 10 10 10 10; 10 10 10 10; 10 10 10 10;;; 10 10 10 10; 10 10 10 10; 10 10 10 10; 10 10 10 10;;;; 3 10 10 10; 10 10 10 10; 10 10 10 10; 10 10 10 10;;; 10 10 10 10; 10 10 10 10; 10 10 10 10; 10 10 10 10;;; 10 10 10 10; 10 10 10 10; 10 10 10 10; 10 10 10 10;;; 10 10 10 10; 10 10 10 10; 10 10 10 10; 10 10 10 10;;;; 3 10 10 10; 10 10 10 10; 10 10 10 10; 10 10 10 10;;; 10 10 10 10; 10 10 10 10; 10 10 10 10; 10 10 10 10;;; 10 10 10 10; 10 10 10 10; 10 10 10 10; 10 10 10 10;;; 10 10 10 10; 10 10 10 10; 10 10 10 10; 10 10 10 10;;;; 3 10 10 10; 10 10 10 10; 10 10 10 10; 10 10 10 10;;; 10 10 10 10; 10 10 10 10; 10 10 10 10; 10 10 10 10;;; 10 10 10 10; 10 10 10 10; 10 10 10 10; 10 10 10 10;;; 10 10 10 10; 10 10 10 10; 10 10 10 10; 10 10 10 10;;;;; 10 3 3 3; 10 10 10 10; 10 10 10 10; 10 10 10 10;;; 10 10 10 10; 10 10 10 10; 10 10 10 10; 10 10 10 10;;; 10 10 10 10; 10 10 10 10; 10 10 10 10; 10 10 10 10;;; 10 10 10 10; 10 10 10 10; 10 10 10 10; 10 10 10 10;;;; 3 2 2 2; 2 2 2 2; 2 2 2 2; 2 2 2 2;;; 10 10 10 10; 10 10 10 10; 10 10 10 10; 10 10 10 10;;; 10 10 10 10; 10 10 10 10; 10 10 10 10; 10 10 10 10;;; 10 10 10 10; 10 10 10 10; 10 10 10 10; 10 10 10 10;;;; 3 2 2 2; 2 2 2 2; 2 2 2 2; 2 2 2 2;;; 10 10 10 10; 10 10 10 10; 10 10 10 10; 10 10 10 10;;; 10 10 10 10; 10 10 10 10; 10 10 10 10; 10 10 10 10;;; 10 10 10 10; 10 10 10 10; 10 10 10 10; 10 10 10 10;;;; 3 2 2 2; 2 2 2 2; 2 2 2 2; 2 2 2 2;;; 10 10 10 10; 10 10 10 10; 10 10 10 10; 10 10 10 10;;; 10 10 10 10; 10 10 10 10; 10 10 10 10; 10 10 10 10;;; 10 10 10 10; 10 10 10 10; 10 10 10 10; 10 10 10 10;;;;; 10 3 3 3; 10 10 10 10; 10 10 10 10; 10 10 10 10;;; 10 10 10 10; 10 10 10 10; 10 10 10 10; 10 10 10 10;;; 10 10 10 10; 10 10 10 10; 10 10 10 10; 10 10 10 10;;; 10 10 10 10; 10 10 10 10; 10 10 10 10; 10 10 10 10;;;; 3 2 2 2; 2 2 2 2; 2 2 2 2; 2 2 2 2;;; 10 10 10 10; 10 10 10 10; 10 10 10 10; 10 10 10 10;;; 10 10 10 10; 10 10 10 10; 10 10 10 10; 10 10 10 10;;; 10 10 10 10; 10 10 10 10; 10 10 10 10; 10 10 10 10;;;; 3 2 2 2; 2 2 2 2; 2 2 2 2; 2 2 2 2;;; 10 10 10 10; 10 10 10 10; 10 10 10 10; 10 10 10 10;;; 10 10 10 10; 10 10 10 10; 10 10 10 10; 10 10 10 10;;; 10 10 10 10; 10 10 10 10; 10 10 10 10; 10 10 10 10;;;; 3 2 2 2; 2 2 2 2; 2 2 2 2; 2 2 2 2;;; 10 10 10 10; 10 10 10 10; 10 10 10 10; 10 10 10 10;;; 10 10 10 10; 10 10 10 10; 10 10 10 10; 10 10 10 10;;; 10 10 10 10; 10 10 10 10; 10 10 10 10; 10 10 10 10;;;;; 10 3 3 3; 10 10 10 10; 10 10 10 10; 10 10 10 10;;; 10 10 10 10; 10 10 10 10; 10 10 10 10; 10 10 10 10;;; 10 10 10 10; 10 10 10 10; 10 10 10 10; 10 10 10 10;;; 10 10 10 10; 10 10 10 10; 10 10 10 10; 10 10 10 10;;;; 3 2 2 2; 2 2 2 2; 2 2 2 2; 2 2 2 2;;; 10 10 10 10; 10 10 10 10; 10 10 10 10; 10 10 10 10;;; 10 10 10 10; 10 10 10 10; 10 10 10 10; 10 10 10 10;;; 10 10 10 10; 10 10 10 10; 10 10 10 10; 10 10 10 10;;;; 3 2 2 2; 2 2 2 2; 2 2 2 2; 2 2 2 2;;; 10 10 10 10; 10 10 10 10; 10 10 10 10; 10 10 10 10;;; 10 10 10 10; 10 10 10 10; 10 10 10 10; 10 10 10 10;;; 10 10 10 10; 10 10 10 10; 10 10 10 10; 10 10 10 10;;;; 3 2 2 2; 2 2 2 2; 2 2 2 2; 2 2 2 2;;; 10 10 10 10; 10 10 10 10; 10 10 10 10; 10 10 10 10;;; 10 10 10 10; 10 10 10 10; 10 10 10 10; 10 10 10 10;;; 10 10 10 10; 10 10 10 10; 10 10 10 10; 10 10 10 10;;;;; 10 3 3 3; 10 10 10 10; 10 10 10 10; 10 10 10 10;;; 10 10 10 10; 10 10 10 10; 10 10 10 10; 10 10 10 10;;; 10 10 10 10; 10 10 10 10; 10 10 10 10; 10 10 10 10;;; 10 10 10 10; 10 10 10 10; 10 10 10 10; 10 10 10 10;;;; 3 2 2 2; 2 2 2 2; 2 2 2 2; 2 2 2 2;;; 10 10 10 10; 10 10 10 10; 10 10 10 10; 10 10 10 10;;; 10 10 10 10; 10 10 10 10; 10 10 10 10; 10 10 10 10;;; 10 10 10 10; 10 10 10 10; 10 10 10 10; 10 10 10 10;;;; 3 2 2 2; 2 2 2 2; 2 2 2 2; 2 2 2 2;;; 10 10 10 10; 10 10 10 10; 10 10 10 10; 10 10 10 10;;; 10 10 10 10; 10 10 10 10; 10 10 10 10; 10 10 10 10;;; 10 10 10 10; 10 10 10 10; 10 10 10 10; 10 10 10 10;;;; 3 2 2 2; 2 2 2 2; 2 2 2 2; 2 2 2 2;;; 10 10 10 10; 10 10 10 10; 10 10 10 10; 10 10 10 10;;; 10 10 10 10; 10 10 10 10; 10 10 10 10; 10 10 10 10;;; 10 10 10 10; 10 10 10 10; 10 10 10 10; 10 10 10 10], [3, 3, 3], [34, 18, 34], [[15, 3, 2], [16, 3, 2], [17, 3, 2], [18, 3, 2], [19, 3, 2], [20, 3, 2], [21, 3, 2], [22, 3, 2], [23, 3, 2], [2, 3, 15]  …  [23, 3, 35], [35, 3, 15], [35, 3, 16], [35, 3, 17], [35, 3, 18], [35, 3, 19], [35, 3, 20], [35, 3, 21], [35, 3, 22], [35, 3, 23]], [[0, 0, 0], [0, -1, 0]], Bool[], Main.Alfheim.PathsState([1073741824 1073741824 … 1073741824 1073741824; 1073741824 1073741824 … 1073741824 1073741824; … ; 1073741824 1073741824 … 1073741824 1073741824; 1073741824 1073741824 … 1073741824 1073741824;;; 1073741824 1073741824 … 1073741824 1073741824; 1073741824 1073741824 … 1073741824 1073741824; … ; 1073741824 1073741824 … 1073741824 1073741824; 1073741824 1073741824 … 1073741824 1073741824;;; 1073741824 1073741824 … 1073741824 1073741824; 1073741824 1073741824 … 1073741824 1073741824; … ; 1073741824 1073741824 … 1073741824 1073741824; 1073741824 1073741824 … 1073741824 1073741824;;; … ;;; 1073741824 1073741824 … 1073741824 1073741824; 1073741824 1073741824 … 1073741824 1073741824; … ; 1073741824 1073741824 … 1073741824 1073741824; 1073741824 1073741824 … 1073741824 1073741824;;; 1073741824 1073741824 … 1073741824 1073741824; 1073741824 1073741824 … 1073741824 1073741824; … ; 1073741824 1073741824 … 1073741824 1073741824; 1073741824 1073741824 … 1073741824 1073741824;;; 1073741824 1073741824 … 1073741824 1073741824; 1073741824 1073741824 … 1073741824 1073741824; … ; 1073741824 1073741824 … 1073741824 1073741824; 1073741824 1073741824 … 1073741824 1073741824], [0x01 0x01 … 0x01 0x01; 0x01 0x01 … 0x01 0x01; … ; 0x01 0x01 … 0x01 0x01; 0x01 0x01 … 0x01 0x01;;; 0x01 0x01 … 0x01 0x01; 0x01 0x01 … 0x01 0x01; … ; 0x01 0x01 … 0x01 0x01; 0x01 0x01 … 0x01 0x01;;; 0x01 0x01 … 0x01 0x01; 0x01 0x01 … 0x01 0x01; … ; 0x01 0x01 … 0x01 0x01; 0x01 0x01 … 0x01 0x01;;; … ;;; 0x01 0x01 … 0x01 0x01; 0x01 0x01 … 0x01 0x01; … ; 0x01 0x01 … 0x01 0x01; 0x01 0x01 … 0x01 0x01;;; 0x01 0x01 … 0x01 0x01; 0x01 0x01 … 0x01 0x01; … ; 0x01 0x01 … 0x01 0x01; 0x01 0x01 … 0x01 0x01;;; 0x01 0x01 … 0x01 0x01; 0x01 0x01 … 0x01 0x01; … ; 0x01 0x01 … 0x01 0x01; 0x01 0x01 … 0x01 0x01]), Main.Alfheim.PathsState[])], [98304.0, 0.07], [0.0, 0.0], [0.0, 0.0])"
      ]
     },
     "execution_count": 450,
     "metadata": {},
     "output_type": "execute_result"
    }
   ],
   "source": [
    "###### Initialization\n",
    "\n",
    "Nb = length(bRep)\n",
    "padding = 2\n",
    "\n",
    "_map = ones(AlfheimG.Block, mapsize + 2*padding, mapheight + 2*padding, mapsize + 2*padding)\n",
    "_map[1+padding:mapsize+padding, 1:padding, 1+padding:mapsize+padding] .= 0x02\n",
    "\n",
    "############# Create Paths energy\n",
    "\n",
    "# Costs\n",
    "costs = zeros(Int, Nb, Nb, Nb, Nb, 6)\n",
    "\n",
    "costs[1:Nb, 1:Nb, 1, 1, 1:6] .= 10 # -> Void\n",
    "costs[1:Nb, 1:Nb, 2:Nb, 1:Nb, 1:6] .= 10 # -> Solid\n",
    "\n",
    "costs[1:Nb, 1:Nb, 1, 2:Nb, 1:2] .= 10 # -> Road, vertical (should not appear)\n",
    "costs[1:Nb, 1:Nb, 1, 2:Nb, 3:6] .= 2 # -> Road, horizontal\n",
    "\n",
    "costs[1, 2:Nb, 1, 1, 1:6] .= 3 # Road -> Void (stairs)\n",
    "costs[1, 1, 1, 2:Nb, 1:6] .= 3 # Void -> Road (stairs)\n",
    "\n",
    "# Test cost\n",
    "# costs = zeros(Int, Nb, Nb, 6)\n",
    "# costs[1:Nb, 1:Nb, 1:6] .= 1\n",
    "\n",
    "@show findall(x -> x>0, costs .== 0)\n",
    "\n",
    "# Arrays\n",
    "dist = fill(Int(2^30), size(_map))\n",
    "dirc = ones(UInt8, size(_map)...)\n",
    "\n",
    "# Entrance\n",
    "entranceSize = mapsize ÷ 4\n",
    "entranceStart = (mapsize + 2 * padding - entranceSize) ÷ 2 + 1\n",
    "entranceEnd = entranceStart + entranceSize\n",
    "\n",
    "# 4 Entries\n",
    "starts = []\n",
    "\n",
    "dist[entranceStart:entranceEnd, 1:1 + padding, 1:padding] .= 0\n",
    "starts = [starts; [[x, 1 + padding, padding] for x in entranceStart:entranceEnd]]\n",
    "_map[entranceStart:entranceEnd, 1:padding, 1:padding] .= 3\n",
    "\n",
    "dist[1:padding, 1:1 + padding, entranceStart:entranceEnd] .= 0\n",
    "starts = [starts; [[padding, 1 + padding, x] for x in entranceStart:entranceEnd]]\n",
    "_map[1:padding, 1:padding, entranceStart:entranceEnd] .= 3\n",
    "\n",
    "dist[entranceStart:entranceEnd, 1:1 + padding, end:-1:end-padding+1] .= 0\n",
    "starts = [starts; [[x, 1 + padding, size(_map)[3]-padding+1] for x in entranceStart:entranceEnd]]\n",
    "_map[entranceStart:entranceEnd, 1:padding, end:-1:end-padding+1] .= 3\n",
    "\n",
    "dist[end:-1:end-padding+1, 1:1 + padding, entranceStart:entranceEnd] .= 0\n",
    "starts = [starts; [[size(_map)[1]-padding+1, 1 + padding, x] for x in entranceStart:entranceEnd]]\n",
    "_map[end:-1:end-padding+1, 1:padding, entranceStart:entranceEnd] .= 3\n",
    "\n",
    "@show [1, 1, 1] .+ padding\n",
    "\n",
    "########### Create Map\n",
    "\n",
    "testmap = AlfheimG.Map(\n",
    "    _map,\n",
    "    [1 + padding, 1 + padding, 1 + padding],\n",
    "    [mapsize + padding, mapheight + padding, mapsize + padding]\n",
    ")\n",
    "\n",
    "########### Create objectives\n",
    "\n",
    "pathsEnergy = Alfheim.Paths(costs, starts, [[0,0,0], [0,-1,0]], testmap.min, testmap.max, dist, dirc)\n",
    "pathsWeight = 0.07\n",
    "\n",
    "blockMarginalsE = Alfheim.BlockPropotion(0.7, AlfheimG.AirBlock) # Target: 65% Air remains\n",
    "blockMarginalsW = mapsize^2 * mapheight * 6\n",
    "\n",
    "# Energies\n",
    "Etotal = Alfheim.VoxelGibbsDistribution(\n",
    "    [\n",
    "        blockMarginalsE,\n",
    "        pathsEnergy\n",
    "    ],\n",
    "    [\n",
    "        blockMarginalsW,\n",
    "        pathsWeight\n",
    "    ]\n",
    ")"
   ]
  },
  {
   "cell_type": "code",
   "execution_count": 451,
   "id": "a1372587-e852-49a5-8725-61a5b416b463",
   "metadata": {},
   "outputs": [
    {
     "data": {
      "text/plain": [
       "Main.AlfheimG.TestCity{UInt8}(UInt8[0x0f, 0xe5, 0x16, 0xc9, 0x29, 0xf4, 0x1e, 0x65, 0x73, 0xe9  …  0xa6, 0xe7, 0x19, 0xf4, 0xd5, 0x6e, 0x7a, 0xbd, 0x33, 0x9a])"
      ]
     },
     "execution_count": 451,
     "metadata": {},
     "output_type": "execute_result"
    }
   ],
   "source": [
    "# g = [2, 0, 5, 5, 1, 0, 4, 5, 1, 3, 5, 5, 2, 137, 8, 10]\n",
    "g = Base.rand(UInt8, 16384)\n",
    "\n",
    "city = AlfheimG.TestCity(g)\n",
    "\n",
    "# refreshNd(bRep[testmap.map], [0, 64, 0], true)"
   ]
  },
  {
   "cell_type": "code",
   "execution_count": 452,
   "id": "cf786c33-1f03-4cd6-8c6f-21174dbff58e",
   "metadata": {
    "tags": []
   },
   "outputs": [
    {
     "name": "stdout",
     "output_type": "stream",
     "text": [
      "  3.241384 seconds (12.20 M allocations: 459.593 MiB, 14.65% gc time, 57.27% compilation time)\n"
     ]
    },
    {
     "data": {
      "text/plain": [
       "-110992.95592592593"
      ]
     },
     "execution_count": 452,
     "metadata": {},
     "output_type": "execute_result"
    }
   ],
   "source": [
    "using StatProfilerHTML\n",
    "\n",
    "# Energy calculation\n",
    "function fit(instance::AlfheimG.Specie, inmap::AlfheimG.Map, E::Alfheim.VoxelGibbsDistribution)\n",
    "    copiedmap = deepcopy(inmap)\n",
    "    AlfheimG.populate!(instance, copiedmap)\n",
    "    dummyState = Alfheim.createMCMCState(copiedmap.map, deepcopy(E), Alfheim.DummyWalker(copiedmap.min, copiedmap.max))\n",
    "    # refreshNd(bRep[copiedmap.map], [0, 64, 0], true)\n",
    "    return - dummyState.p(dummyState)\n",
    "end\n",
    "\n",
    "@time fit(city, testmap, Etotal)"
   ]
  },
  {
   "cell_type": "code",
   "execution_count": 454,
   "id": "dfd2ac7d-6da5-4e79-b853-720a8710491d",
   "metadata": {},
   "outputs": [
    {
     "name": "stdout",
     "output_type": "stream",
     "text": [
      "Iter    1 - fit:  -111574.808 ± 2241.301     (Visualizing)\n",
      "Iter    4 - fit:  -107944.822 ± 1595.589     \n",
      "Iter    7 - fit:  -107367.139 ± 1920.738     (Visualizing)\n",
      "Iter   10 - fit:  -106807.621 ± 1881.282     \n",
      "Iter   13 - fit:  -106462.845 ± 1493.549     (Visualizing)\n",
      "Iter   16 - fit:  -104974.349 ± 1061.298     \n",
      "Iter   19 - fit:  -105295.388 ± 1996.534     (Visualizing)\n",
      "Iter   22 - fit:  -104685.405 ± 1642.276     \n",
      "Iter   25 - fit:  -104344.174 ± 1112.378     (Visualizing)\n",
      "Iter   28 - fit:  -103863.869 ± 1203.271     \n",
      "Iter   31 - fit:  -103972.612 ± 1188.765     (Visualizing)\n",
      "Iter   34 - fit:  -104290.063 ± 1984.511     \n",
      "Iter   37 - fit:  -103733.463 ± 1457.110     (Visualizing)\n",
      "Iter   40 - fit:  -103700.896 ± 2145.566     \n",
      "Iter   43 - fit:  -103127.198 ± 1987.813     (Visualizing)\n",
      "Iter   46 - fit:  -102868.855 ± 1388.586     \n",
      "Iter   49 - fit:  -102802.318 ± 1315.389     (Visualizing)\n",
      "Iter   52 - fit:  -102905.914 ± 1299.634     \n",
      "Iter   55 - fit:  -102490.705 ± 1558.243     (Visualizing)\n",
      "Iter   58 - fit:  -103227.916 ± 1790.110     \n",
      "Iter   61 - fit:  -103129.591 ± 1772.354     (Visualizing)\n",
      "Iter   64 - fit:  -102848.540 ± 1152.230     \n",
      "Iter   67 - fit:  -103430.193 ± 2120.995     (Visualizing)\n",
      "Iter   70 - fit:  -103115.975 ± 1375.377     \n",
      "Iter   73 - fit:  -102474.642 ± 1701.252     (Visualizing)\n",
      "Iter   76 - fit:  -102950.110 ± 1404.178     \n",
      "Iter   79 - fit:  -102687.509 ± 1238.811     (Visualizing)\n",
      "Iter   82 - fit:  -102366.359 ± 987.965      \n",
      "Iter   85 - fit:  -102413.835 ± 1747.100     (Visualizing)\n",
      "Iter   88 - fit:  -102155.277 ± 1555.470     \n",
      "Iter   91 - fit:  -102236.409 ± 1842.427     (Visualizing)\n",
      "Iter   94 - fit:  -102319.012 ± 1426.853     \n",
      "Iter   97 - fit:  -102149.615 ± 1118.971     (Visualizing)\n",
      "Iter  100 - fit:  -102250.402 ± 1759.000     \n",
      "Iter  103 - fit:  -101885.622 ± 1385.093     (Visualizing)\n",
      "Iter  106 - fit:  -102274.464 ± 2438.808     \n",
      "Iter  109 - fit:  -102489.289 ± 1891.643     (Visualizing)\n",
      "Iter  112 - fit:  -101588.049 ± 1116.842     \n",
      "Iter  115 - fit:  -101784.410 ± 1463.058     (Visualizing)\n",
      "Iter  118 - fit:  -101440.736 ± 1475.848     \n",
      "Iter  121 - fit:  -101373.014 ± 900.468      (Visualizing)\n",
      "Iter  124 - fit:  -101150.138 ± 1028.070     \n",
      "Iter  127 - fit:  -101873.129 ± 1224.848     (Visualizing)\n",
      "Iter  130 - fit:  -101697.484 ± 1366.119     \n",
      "Iter  133 - fit:  -102005.209 ± 1617.188     (Visualizing)\n",
      "Iter  136 - fit:  -101527.873 ± 1374.852     \n",
      "Iter  139 - fit:  -101404.862 ± 1723.996     (Visualizing)\n",
      "Iter  142 - fit:  -100998.884 ± 2327.949     \n",
      "Iter  145 - fit:  -100694.531 ± 1040.484     (Visualizing)\n",
      "Iter  148 - fit:  -101040.052 ± 1589.771     \n",
      "Iter  151 - fit:  -100842.612 ± 1364.504     (Visualizing)\n",
      "Iter  154 - fit:  -101338.420 ± 1479.072     \n",
      "Iter  157 - fit:  -100772.570 ± 1207.009     (Visualizing)\n"
     ]
    },
    {
     "ename": "LoadError",
     "evalue": "InterruptException:",
     "output_type": "error",
     "traceback": [
      "InterruptException:",
      "",
      "Stacktrace:",
      "  [1] try_yieldto(undo::typeof(Base.ensure_rescheduled))",
      "    @ Base .\\task.jl:777",
      "  [2] wait()",
      "    @ Base .\\task.jl:837",
      "  [3] wait(c::Base.GenericCondition{SpinLock})",
      "    @ Base .\\condition.jl:123",
      "  [4] _wait(t::Task)",
      "    @ Base .\\task.jl:293",
      "  [5] wait",
      "    @ .\\task.jl:332 [inlined]",
      "  [6] threading_run(func::Function)",
      "    @ Base.Threads .\\threadingconstructs.jl:38",
      "  [7] macro expansion",
      "    @ .\\threadingconstructs.jl:97 [inlined]",
      "  [8] top-level scope",
      "    @ .\\In[454]:20",
      "  [9] eval",
      "    @ .\\boot.jl:373 [inlined]",
      " [10] include_string(mapexpr::typeof(REPL.softscope), mod::Module, code::String, filename::String)",
      "    @ Base .\\loading.jl:1196"
     ]
    }
   ],
   "source": [
    "using Base.Threads\n",
    "using StatsBase\n",
    "\n",
    "# Simple GA\n",
    "nPool = Threads.nthreads() * 2\n",
    "nParents = convert(Int64, nPool * 0.25)\n",
    "\n",
    "collectedParentIdxs = collect(1:nParents)\n",
    "\n",
    "geneLenth = 4096\n",
    "pool = [AlfheimG.TestCity(Base.rand(UInt8, geneLenth)) for i in 1:nPool]\n",
    "fitness = zeros(nPool)\n",
    "\n",
    "totalIters = 1000\n",
    "printInterval = 3\n",
    "visInterval = 6\n",
    "\n",
    "for iter in 1:(totalIters+1)\n",
    "    \n",
    "    @threads for ix in 1:nPool\n",
    "        fitness[ix] = fit(pool[ix], testmap, Etotal)\n",
    "    end\n",
    "    \n",
    "    # Choose top parents\n",
    "    order = sortperm(fitness)\n",
    "    parentsIdx = order[end-nParents+1:end]\n",
    "    \n",
    "    # Choose parents\n",
    "    s1 = pool[parentsIdx[StatsBase.sample(collectedParentIdxs, nPool)]]\n",
    "    s2 = pool[parentsIdx[StatsBase.sample(collectedParentIdxs, nPool)]]\n",
    "    \n",
    "    # Create offsprings\n",
    "    pool = [AlfheimG.offspring(s1[i], s2[i], 0.01) for i in 1:nPool]\n",
    "    AlfheimG.mutate!.(pool, 0.02)\n",
    "    \n",
    "    if iter % printInterval == 1\n",
    "        printfmt(\"Iter {:4d} - fit: {:12.3f} ± {:<12.3f} \", iter, mean(fitness), std(fitness))\n",
    "        flush(stdout)\n",
    "        \n",
    "        if iter % visInterval == 1\n",
    "            print(\"(Visualizing)\")\n",
    "            flush(stdout)\n",
    "            row = convert(Int64, floor(sqrt(nPool)))\n",
    "            for ix in 1:length(pool)\n",
    "                copiedmap = deepcopy(testmap)\n",
    "                AlfheimG.populate!(pool[ix], copiedmap)\n",
    "                refreshNd(\n",
    "                    bRep[copiedmap.map], \n",
    "                    [\n",
    "                           ((ix-1) % row) * (mapsize + 2*padding + 2), \n",
    "                        65, \n",
    "                        div((ix-1),  row) * (mapsize + 2*padding + 2)\n",
    "                    ], \n",
    "                    true\n",
    "                )\n",
    "            end\n",
    "        end\n",
    "        \n",
    "        print(\"\\n\")\n",
    "    end\n",
    "end"
   ]
  }
 ],
 "metadata": {
  "kernelspec": {
   "display_name": "Julia 1.7.0",
   "language": "julia",
   "name": "julia-1.7"
  },
  "language_info": {
   "file_extension": ".jl",
   "mimetype": "application/julia",
   "name": "julia",
   "version": "1.7.0"
  }
 },
 "nbformat": 4,
 "nbformat_minor": 5
}
