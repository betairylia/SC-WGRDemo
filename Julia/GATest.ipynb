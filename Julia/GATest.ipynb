{
 "cells": [
  {
   "cell_type": "code",
   "execution_count": 2,
   "metadata": {},
   "outputs": [
    {
     "name": "stderr",
     "output_type": "stream",
     "text": [
      "WARNING: replacing module WGR.\n",
      "WARNING: replacing module Alfheim.\n",
      "WARNING: replacing module AlfheimG.\n"
     ]
    },
    {
     "data": {
      "text/plain": [
       "refreshNd (generic function with 2 methods)"
      ]
     },
     "execution_count": 2,
     "metadata": {},
     "output_type": "execute_result"
    }
   ],
   "source": [
    "import Base.Threads.@spawn\n",
    "\n",
    "using NPZ\n",
    "\n",
    "include(\"WGR-MCMClib/WGR.jl\")\n",
    "using .WGR\n",
    "\n",
    "include(\"WGR-MCMClib/Alfheim.jl\")\n",
    "using .Alfheim\n",
    "\n",
    "include(\"WGR-GAlib/Species.jl\")\n",
    "using .AlfheimG\n",
    "\n",
    "import Base.flush\n",
    "using Distributions\n",
    "\n",
    "using Formatting\n",
    "using Test\n",
    "using Random\n",
    "\n",
    "# buf = WGR.BlockBuffer(32 * Threads.nthreads())\n",
    "buf = WGR.BlockBuffer(4096)\n",
    "setBlocks(x,y,z,b) = WGR.setBlocks!(buf, x, y, z, b)\n",
    "flush() = WGR.flush!(buf)\n",
    "refreshNd(a,p,f = false) = WGR.refreshNd!(buf,a,p,f)"
   ]
  },
  {
   "cell_type": "code",
   "execution_count": 3,
   "metadata": {},
   "outputs": [
    {
     "data": {
      "text/plain": [
       "4-element Vector{UInt32}:\n",
       " 0x00000000\n",
       " 0xba8d65ff\n",
       " 0x3155a6ff\n",
       " 0x96c78cff"
      ]
     },
     "execution_count": 3,
     "metadata": {},
     "output_type": "execute_result"
    }
   ],
   "source": [
    "mapsize = 32\n",
    "mapheight = 16\n",
    "bRep = [0x00000000, 0xBA8D65FF, 0x3155A6FF, 0x96C78CFF]"
   ]
  },
  {
   "cell_type": "code",
   "execution_count": 4,
   "metadata": {
    "tags": []
   },
   "outputs": [
    {
     "name": "stdout",
     "output_type": "stream",
     "text": [
      "findall((x->begin\n",
      "            #= In[4]:27 =#\n",
      "            x > 0\n",
      "        end), costs .== 0) = CartesianIndex{5}[]\n",
      "[1, 1, 1] .+ padding = [3, 3, 3]\n"
     ]
    },
    {
     "data": {
      "text/plain": [
       "Main.Alfheim.VoxelGibbsDistribution(Main.Alfheim.AbstractEnergy[Main.Alfheim.BlockPropotion(0.7, 0x01, 0, Main.Alfheim.L2, Main.Alfheim.BlockPropotionState(0, 0.0), Main.Alfheim.BlockPropotionState[])], [98304.0], [0.0], [0.0])"
      ]
     },
     "execution_count": 4,
     "metadata": {},
     "output_type": "execute_result"
    }
   ],
   "source": [
    "###### Initialization\n",
    "\n",
    "Nb = length(bRep)\n",
    "padding = 2\n",
    "\n",
    "_map = ones(AlfheimG.Block, mapsize + 2*padding, mapheight + 2*padding, mapsize + 2*padding)\n",
    "_map[1+padding:mapsize+padding, 1:padding, 1+padding:mapsize+padding] .= 0x02\n",
    "\n",
    "############# Create Paths energy\n",
    "\n",
    "# Costs\n",
    "costs = zeros(Int, Nb, Nb, Nb, Nb, 6)\n",
    "\n",
    "costs[1:Nb, 1:Nb, 1, 1, 1:6] .= 10 # -> Void\n",
    "costs[1:Nb, 1:Nb, 2:Nb, 1:Nb, 1:6] .= 10 # -> Solid\n",
    "\n",
    "costs[1:Nb, 1:Nb, 1, 2:Nb, 1:2] .= 10 # -> Road, vertical (should not appear)\n",
    "costs[1:Nb, 1:Nb, 1, 2:Nb, 3:6] .= 2 # -> Road, horizontal\n",
    "\n",
    "costs[1, 2:Nb, 1, 1, 1:6] .= 3 # Road -> Void (stairs)\n",
    "costs[1, 1, 1, 2:Nb, 1:6] .= 3 # Void -> Road (stairs)\n",
    "\n",
    "# Test cost\n",
    "# costs = zeros(Int, Nb, Nb, 6)\n",
    "# costs[1:Nb, 1:Nb, 1:6] .= 1\n",
    "\n",
    "@show findall(x -> x>0, costs .== 0)\n",
    "\n",
    "# Arrays\n",
    "dist = fill(Int(2^30), size(_map))\n",
    "dirc = ones(UInt8, size(_map)...)\n",
    "\n",
    "# Entrance\n",
    "entranceSize = mapsize ÷ 4\n",
    "entranceStart = (mapsize + 2 * padding - entranceSize) ÷ 2 + 1\n",
    "entranceEnd = entranceStart + entranceSize\n",
    "\n",
    "# 4 Entries\n",
    "starts = []\n",
    "\n",
    "dist[entranceStart:entranceEnd, 1:1 + padding, 1:padding] .= 0\n",
    "starts = [starts; [[x, 1 + padding, padding] for x in entranceStart:entranceEnd]]\n",
    "_map[entranceStart:entranceEnd, 1:padding, 1:padding] .= 3\n",
    "\n",
    "dist[1:padding, 1:1 + padding, entranceStart:entranceEnd] .= 0\n",
    "starts = [starts; [[padding, 1 + padding, x] for x in entranceStart:entranceEnd]]\n",
    "_map[1:padding, 1:padding, entranceStart:entranceEnd] .= 3\n",
    "\n",
    "dist[entranceStart:entranceEnd, 1:1 + padding, end:-1:end-padding+1] .= 0\n",
    "starts = [starts; [[x, 1 + padding, size(_map)[3]-padding+1] for x in entranceStart:entranceEnd]]\n",
    "_map[entranceStart:entranceEnd, 1:padding, end:-1:end-padding+1] .= 3\n",
    "\n",
    "dist[end:-1:end-padding+1, 1:1 + padding, entranceStart:entranceEnd] .= 0\n",
    "starts = [starts; [[size(_map)[1]-padding+1, 1 + padding, x] for x in entranceStart:entranceEnd]]\n",
    "_map[end:-1:end-padding+1, 1:padding, entranceStart:entranceEnd] .= 3\n",
    "\n",
    "@show [1, 1, 1] .+ padding\n",
    "\n",
    "########### Create Map\n",
    "\n",
    "testmap = AlfheimG.Map(\n",
    "    _map,\n",
    "    [1 + padding, 1 + padding, 1 + padding],\n",
    "    [mapsize + padding, mapheight + padding, mapsize + padding]\n",
    ")\n",
    "\n",
    "########### Create objectives\n",
    "\n",
    "pathsEnergy = Alfheim.Paths(costs, starts, [[0,0,0], [0,-1,0]], testmap.min, testmap.max, dist, dirc)\n",
    "pathsWeight = 0.07\n",
    "\n",
    "blockMarginalsE = Alfheim.BlockPropotion(0.7, AlfheimG.AirBlock) # Target: 65% Air remains\n",
    "blockMarginalsW = mapsize^2 * mapheight * 6\n",
    "\n",
    "# Energies\n",
    "Etotal = Alfheim.VoxelGibbsDistribution(\n",
    "    [\n",
    "        blockMarginalsE,\n",
    "#         pathsEnergy\n",
    "    ],\n",
    "    [\n",
    "        blockMarginalsW,\n",
    "#         pathsWeight\n",
    "    ]\n",
    ")"
   ]
  },
  {
   "cell_type": "code",
   "execution_count": 5,
   "metadata": {},
   "outputs": [
    {
     "data": {
      "text/plain": [
       "Main.AlfheimG.TestCity{UInt8}(UInt8[0x22, 0xa4, 0x3e, 0xca, 0x9b, 0x9e, 0x11, 0xfb, 0x61, 0xe9  …  0x90, 0x4d, 0x60, 0xf8, 0x2f, 0xe7, 0x37, 0x58, 0x69, 0x55])"
      ]
     },
     "execution_count": 5,
     "metadata": {},
     "output_type": "execute_result"
    }
   ],
   "source": [
    "# g = [2, 0, 5, 5, 1, 0, 4, 5, 1, 3, 5, 5, 2, 137, 8, 10]\n",
    "g = Base.rand(UInt8, 16384)\n",
    "\n",
    "city = AlfheimG.TestCity(g)\n",
    "\n",
    "# refreshNd(bRep[testmap.map], [0, 64, 0], true)"
   ]
  },
  {
   "cell_type": "code",
   "execution_count": 6,
   "metadata": {
    "tags": []
   },
   "outputs": [
    {
     "name": "stdout",
     "output_type": "stream",
     "text": [
      "  0.934325 seconds (3.23 M allocations: 167.021 MiB, 3.75% gc time, 99.37% compilation time)\n"
     ]
    },
    {
     "data": {
      "text/plain": [
       "-14665.95555555556"
      ]
     },
     "execution_count": 6,
     "metadata": {},
     "output_type": "execute_result"
    }
   ],
   "source": [
    "# using StatProfilerHTML\n",
    "\n",
    "# Energy calculation\n",
    "function fit(instance::AlfheimG.Specie, inmap::AlfheimG.Map, E::Alfheim.VoxelGibbsDistribution)\n",
    "    copiedmap = deepcopy(inmap)\n",
    "    AlfheimG.populate!(instance, copiedmap)\n",
    "    dummyState = Alfheim.createMCMCState(copiedmap.map, deepcopy(E), Alfheim.DummyWalker(copiedmap.min, copiedmap.max))\n",
    "    # refreshNd(bRep[copiedmap.map], [0, 64, 0], true)\n",
    "    return - dummyState.p(dummyState)\n",
    "end\n",
    "\n",
    "@time fit(city, testmap, Etotal)"
   ]
  },
  {
   "cell_type": "code",
   "execution_count": null,
   "metadata": {},
   "outputs": [
    {
     "name": "stdout",
     "output_type": "stream",
     "text": [
      "Iter    1 - fit:   -12764.444 ± 2963.466     (Visualizing)\n",
      "Iter    4 - fit:    -5977.481 ± 1224.982     \n",
      "Iter    7 - fit:    -4774.044 ± 1067.279     (Visualizing)\n",
      "Iter   10 - fit:    -3435.141 ± 1671.231     \n",
      "Iter   13 - fit:    -2560.830 ± 1329.701     (Visualizing)\n",
      "Iter   16 - fit:    -1450.904 ± 1307.755     \n",
      "Iter   19 - fit:    -1622.874 ± 1857.947     (Visualizing)\n",
      "Iter   22 - fit:    -1577.363 ± 1070.899     \n",
      "Iter   25 - fit:    -1617.778 ± 1252.452     (Visualizing)\n",
      "Iter   28 - fit:    -1736.533 ± 1598.007     \n",
      "Iter   31 - fit:    -2067.437 ± 1424.723     (Visualizing)\n",
      "Iter   34 - fit:    -1545.956 ± 1188.681     \n",
      "Iter   37 - fit:    -1698.607 ± 1300.692     (Visualizing)"
     ]
    }
   ],
   "source": [
    "using Base.Threads\n",
    "using StatsBase\n",
    "\n",
    "# Simple GA\n",
    "nPool = 32#Threads.nthreads() * 2\n",
    "nParents = convert(Int64, nPool * 0.25)\n",
    "\n",
    "collectedParentIdxs = collect(1:nParents)\n",
    "\n",
    "geneLenth = 4096\n",
    "pool = [AlfheimG.TestCity(Base.rand(UInt8, geneLenth)) for i in 1:nPool]\n",
    "fitness = zeros(nPool)\n",
    "\n",
    "totalIters = 1000\n",
    "printInterval = 3\n",
    "visInterval = 6\n",
    "\n",
    "for iter in 1:(totalIters+1)\n",
    "    \n",
    "    @threads for ix in 1:nPool\n",
    "        fitness[ix] = fit(pool[ix], testmap, Etotal)\n",
    "    end\n",
    "    \n",
    "    # Choose top parents\n",
    "    order = sortperm(fitness)\n",
    "    parentsIdx = order[end-nParents+1:end]\n",
    "    \n",
    "    # Choose parents\n",
    "    s1 = pool[parentsIdx[StatsBase.sample(collectedParentIdxs, nPool)]]\n",
    "    s2 = pool[parentsIdx[StatsBase.sample(collectedParentIdxs, nPool)]]\n",
    "    \n",
    "    # Create offsprings\n",
    "    pool = [AlfheimG.offspring(s1[i], s2[i], 0.01) for i in 1:nPool]\n",
    "    AlfheimG.mutate!.(pool, 0.02)\n",
    "    \n",
    "    if iter % printInterval == 1\n",
    "        printfmt(\"Iter {:4d} - fit: {:12.3f} ± {:<12.3f} \", iter, mean(fitness), std(fitness))\n",
    "        flush(stdout)\n",
    "        \n",
    "        if iter % visInterval == 1\n",
    "            print(\"(Visualizing)\")\n",
    "            flush(stdout)\n",
    "            row = convert(Int64, floor(sqrt(nPool)))\n",
    "            for ix in 1:length(pool)\n",
    "                copiedmap = deepcopy(testmap)\n",
    "                AlfheimG.populate!(pool[ix], copiedmap)\n",
    "                refreshNd(\n",
    "                    bRep[copiedmap.map], \n",
    "                    [\n",
    "                        200 +    ((ix-1) % row) * (mapsize + 2*padding + 2), \n",
    "                        65, \n",
    "                        200 + div((ix-1),  row) * (mapsize + 2*padding + 2)\n",
    "                    ], \n",
    "                    true\n",
    "                )\n",
    "            end\n",
    "        end\n",
    "        \n",
    "        print(\"\\n\")\n",
    "    end\n",
    "end"
   ]
  },
  {
   "cell_type": "code",
   "execution_count": null,
   "metadata": {},
   "outputs": [],
   "source": []
  }
 ],
 "metadata": {
  "kernelspec": {
   "display_name": "Julia 1.8.1",
   "language": "julia",
   "name": "julia-1.8"
  },
  "language_info": {
   "file_extension": ".jl",
   "mimetype": "application/julia",
   "name": "julia",
   "version": "1.8.1"
  }
 },
 "nbformat": 4,
 "nbformat_minor": 5
}
