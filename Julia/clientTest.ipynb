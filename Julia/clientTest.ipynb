{
 "cells": [
  {
   "cell_type": "code",
   "execution_count": 34,
   "metadata": {},
   "outputs": [
    {
     "name": "stdout",
     "output_type": "stream",
     "text": [
      "(16, 4096)\n",
      "[-12928.948 -13850.548 -14336.    -20904.77  -15932.682 -13300.622\n",
      " -12360.06  -11169.186 -13816.415 -13255.111 -12014.934 -18659.555\n",
      " -15132.444  -9106.015 -13634.37  -18287.88 ]\n"
     ]
    }
   ],
   "source": [
    "import socket\n",
    "from struct import pack\n",
    "import numpy as np\n",
    "\n",
    "s = socket.socket()\n",
    "s.settimeout(10.0)\n",
    "s.connect((\"127.0.0.1\", 4445))\n",
    "\n",
    "test_array = np.random.randint(0, 256, (16, 4096), dtype = np.uint8)\n",
    "\n",
    "print(test_array.shape)\n",
    "\n",
    "# print(pack(\"!i\", test_array.size))\n",
    "# print(test_array.tobytes())\n",
    "\n",
    "s.send(pack(\"i\", test_array.size))\n",
    "s.send(pack(\"i\", test_array.shape[0]))\n",
    "s.send(test_array.tobytes())\n",
    "\n",
    "fitness = np.frombuffer(s.recv(test_array.shape[0] * 4), dtype = np.float32, count = test_array.shape[0])\n",
    "print(fitness)"
   ]
  }
 ],
 "metadata": {
  "kernelspec": {
   "display_name": "Python 3",
   "language": "python",
   "name": "python3"
  },
  "language_info": {
   "codemirror_mode": {
    "name": "ipython",
    "version": 3
   },
   "file_extension": ".py",
   "mimetype": "text/x-python",
   "name": "python",
   "nbconvert_exporter": "python",
   "pygments_lexer": "ipython3",
   "version": "3.8.5"
  }
 },
 "nbformat": 4,
 "nbformat_minor": 5
}
