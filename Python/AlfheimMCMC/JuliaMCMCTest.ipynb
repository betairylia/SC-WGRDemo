{
 "cells": [
  {
   "cell_type": "code",
   "execution_count": 1,
   "id": "c18db619-fff6-4e74-8dca-8ba373c2e7a7",
   "metadata": {},
   "outputs": [
    {
     "data": {
      "text/plain": [
       "flush (generic function with 12 methods)"
      ]
     },
     "execution_count": 1,
     "metadata": {},
     "output_type": "execute_result"
    }
   ],
   "source": [
    "using NPZ\n",
    "\n",
    "include(\"WGR.jl\")\n",
    "using .WGR\n",
    "\n",
    "import Base.flush\n",
    "\n",
    "buf = WGR.BlockBuffer(128)\n",
    "setBlocks(x,y,z,b) = WGR.setBlocks!(buf, x, y, z, b)\n",
    "flush() = WGR.flush!(buf)"
   ]
  },
  {
   "cell_type": "code",
   "execution_count": 2,
   "id": "6035a588-f533-45cc-a583-35d80cf1f9c4",
   "metadata": {
    "tags": []
   },
   "outputs": [
    {
     "name": "stdout",
     "output_type": "stream",
     "text": [
      "(72, 122, 72)\n"
     ]
    }
   ],
   "source": [
    "monu10 = npzread(\"monu10.npy\")\n",
    "shape = size(monu10)\n",
    "println(shape)"
   ]
  },
  {
   "cell_type": "code",
   "execution_count": 3,
   "id": "eab3befc-b58b-4656-80f5-6e2afdf0f3f9",
   "metadata": {},
   "outputs": [
    {
     "name": "stdout",
     "output_type": "stream",
     "text": [
      "(150764,)\n"
     ]
    }
   ],
   "source": [
    "nonz = findall(x -> x>0, monu10)\n",
    "println(size(nonz))"
   ]
  },
  {
   "cell_type": "code",
   "execution_count": 4,
   "id": "84cf9687-1d77-499e-b6b6-e9f889022d03",
   "metadata": {},
   "outputs": [
    {
     "data": {
      "text/plain": [
       "refreshNd (generic function with 2 methods)"
      ]
     },
     "execution_count": 4,
     "metadata": {},
     "output_type": "execute_result"
    }
   ],
   "source": [
    "function refreshNd(arr, pos, full = false)\n",
    "    \n",
    "    # Account for 1-based indexing\n",
    "    pos = [p - 1 for p in pos]\n",
    "    \n",
    "    if full\n",
    "        shape = size(arr)\n",
    "        for x in 1:shape[1], y in 1:shape[2], z in 1:shape[3]\n",
    "            setBlocks(x + pos[1], y + pos[2], z + pos[3], arr[x, y, z])\n",
    "        end\n",
    "    else\n",
    "        nonz = findall(x -> x>0, arr)\n",
    "        for p in nonz\n",
    "            setBlocks(p[1] + pos[1], p[2] + pos[2], p[3] + pos[3], arr[p])\n",
    "        end\n",
    "    end\n",
    "    \n",
    "    flush()\n",
    "end"
   ]
  },
  {
   "cell_type": "code",
   "execution_count": 5,
   "id": "f2b9ff4a-fe60-405b-a20d-686e4b9ea53d",
   "metadata": {},
   "outputs": [
    {
     "data": {
      "text/plain": [
       "0"
      ]
     },
     "execution_count": 5,
     "metadata": {},
     "output_type": "execute_result"
    }
   ],
   "source": [
    "refreshNd(monu10, [1, 65, 1], true)"
   ]
  },
  {
   "cell_type": "code",
   "execution_count": 6,
   "id": "1a9fec7a-0a54-4589-b23a-20cad5e37ea2",
   "metadata": {},
   "outputs": [
    {
     "data": {
      "text/plain": [
       "548800"
      ]
     },
     "execution_count": 6,
     "metadata": {},
     "output_type": "execute_result"
    }
   ],
   "source": [
    "# Parameters\n",
    "N = 3       # Pattern size\n",
    "step = 1    # Pattern stride\n",
    "mcsize = 28 # MCMC size\n",
    "eps = 3e-4  # Epsilon\n",
    "targetPos = [100, 65, 1] # Where to put the mcmc\n",
    "nIters = 3000000\n",
    "\n",
    "bDistλ = mcsize^3 * 25"
   ]
  },
  {
   "cell_type": "code",
   "execution_count": 7,
   "id": "462c3d6f-2396-41bf-b7a3-8dc1094b4f59",
   "metadata": {},
   "outputs": [],
   "source": [
    "#Block Index\n",
    "function blockIndex(blocks)\n",
    "    blockDict = Dict{UInt32, Array{Int64}}(0 => [1, 0])\n",
    "    blockRep = [0]\n",
    "    for b in monu10\n",
    "        if !haskey(blockDict, b)\n",
    "            blockDict[b] = [length(blockDict) + 1, 0]\n",
    "            push!(blockRep, b)\n",
    "        end\n",
    "        blockDict[b][2] += 1\n",
    "    end\n",
    "    \n",
    "    return blockDict, blockRep\n",
    "end\n",
    "\n",
    "# Slice weights\n",
    "mutable struct SliceWeights\n",
    "    slices::Dict{Array{WGR.Block}, Int64}\n",
    "    totalNum::Int64\n",
    "end"
   ]
  },
  {
   "cell_type": "code",
   "execution_count": 8,
   "id": "5ddcc060-8295-4eb6-94a6-f6380ae37fc3",
   "metadata": {},
   "outputs": [],
   "source": [
    "SliceWeights() = SliceWeights(Dict{Array{WGR.Block}, Int64}(), 0)\n",
    "\n",
    "import Base.getindex, Base.push!\n",
    "function push!(sW::SliceWeights, pattern)\n",
    "    if !haskey(sW.slices, pattern)\n",
    "        sW.slices[pattern] = 0\n",
    "    end\n",
    "    sW.slices[pattern] += 1\n",
    "    sW.totalNum += 1\n",
    "end\n",
    "\n",
    "Base.getindex(sW::SliceWeights, key) = haskey(sW.slices, key) ? (sW.slices[key] / sW.totalNum) : eps"
   ]
  },
  {
   "cell_type": "code",
   "execution_count": 9,
   "id": "d1bc564b-9cb7-4b7a-8d21-90cce84b8ea9",
   "metadata": {},
   "outputs": [
    {
     "data": {
      "text/plain": [
       "randBlock (generic function with 1 method)"
      ]
     },
     "execution_count": 9,
     "metadata": {},
     "output_type": "execute_result"
    }
   ],
   "source": [
    "function randBlock(choice, dist)\n",
    "    return choice[rand(dist)]\n",
    "end"
   ]
  },
  {
   "cell_type": "code",
   "execution_count": 10,
   "id": "174d14c4-9384-4dfa-80e6-2354d9b9d828",
   "metadata": {},
   "outputs": [
    {
     "name": "stderr",
     "output_type": "stream",
     "text": [
      "WARNING: using Distributions.shape in module Main conflicts with an existing identifier.\n"
     ]
    },
    {
     "ename": "LoadError",
     "evalue": "UndefVarError: bDict not defined",
     "output_type": "error",
     "traceback": [
      "UndefVarError: bDict not defined",
      "",
      "Stacktrace:",
      " [1] top-level scope",
      "   @ In[10]:3",
      " [2] eval",
      "   @ .\\boot.jl:373 [inlined]",
      " [3] include_string(mapexpr::typeof(REPL.softscope), mod::Module, code::String, filename::String)",
      "   @ Base .\\loading.jl:1196"
     ]
    }
   ],
   "source": [
    "using Distributions\n",
    "\n",
    "Nb = length(bDict)\n",
    "bDict, bRep = blockIndex(monu10)\n",
    "\n",
    "bTotal = sum([b[2] for b in values(bDict)])\n",
    "choices = [bRep[b] for b in 1:Nb]\n",
    "bDist = Categorical([bDict[bRep[b]][2] / bTotal for b in 1:Nb])\n",
    "\n",
    "randBlock() = randBlock(choices, bDist)"
   ]
  },
  {
   "cell_type": "code",
   "execution_count": 11,
   "id": "79ef79ec-f18f-45f6-84af-5d94c74b8e82",
   "metadata": {},
   "outputs": [
    {
     "data": {
      "text/plain": [
       "readSlices (generic function with 1 method)"
      ]
     },
     "execution_count": 11,
     "metadata": {},
     "output_type": "execute_result"
    }
   ],
   "source": [
    "# Slice\n",
    "function readSlices(arr, sW; N = 3, stride = 1)\n",
    "    arrShape = size(arr)\n",
    "    for x in 1:arrShape[1]-N, y in 1:arrShape[2]-N, z in 1:arrShape[3]-N\n",
    "        nSlice = arr[x:x+N-1, y:y+N-1, z:z+N-1]\n",
    "        # @show size(nSlice)\n",
    "        for dx in [1:1:N, N:-1:1], dz in [1:1:N, N:-1:1]\n",
    "            push!(sW, nSlice[dx, :, dz])\n",
    "        end\n",
    "    end\n",
    "end"
   ]
  },
  {
   "cell_type": "code",
   "execution_count": null,
   "id": "a6e323c3-5072-45d0-aeb8-bea8e71102b8",
   "metadata": {
    "tags": []
   },
   "outputs": [
    {
     "name": "stdout",
     "output_type": "stream",
     "text": [
      "  1.591166 seconds (5.47 M allocations: 705.996 MiB, 6.15% gc time, 21.84% compilation time)\n"
     ]
    },
    {
     "ename": "LoadError",
     "evalue": "InterruptException:",
     "output_type": "error",
     "traceback": [
      "InterruptException:",
      "",
      "Stacktrace:",
      "  [1] try_yieldto(undo::typeof(Base.ensure_rescheduled))",
      "    @ Base .\\task.jl:777",
      "  [2] wait()",
      "    @ Base .\\task.jl:837",
      "  [3] uv_write(s::Base.PipeEndpoint, p::Ptr{UInt8}, n::UInt64)",
      "    @ Base .\\stream.jl:992",
      "  [4] unsafe_write(s::Base.PipeEndpoint, p::Ptr{UInt8}, n::UInt64)",
      "    @ Base .\\stream.jl:1064",
      "  [5] unsafe_write",
      "    @ .\\io.jl:362 [inlined]",
      "  [6] write",
      "    @ .\\strings\\io.jl:244 [inlined]",
      "  [7] print",
      "    @ .\\strings\\io.jl:246 [inlined]",
      "  [8] print(::IJulia.IJuliaStdio{Base.PipeEndpoint}, ::String, ::String)",
      "    @ Base .\\strings\\io.jl:46",
      "  [9] println(io::IJulia.IJuliaStdio{Base.PipeEndpoint}, xs::String)",
      "    @ Base .\\strings\\io.jl:75",
      " [10] println(xs::String)",
      "    @ Base .\\coreio.jl:4",
      " [11] time_print(elapsedtime::UInt64, bytes::Int64, gctime::Int64, allocs::Int64, compile_time::UInt64, newline::Bool)",
      "    @ Base .\\timing.jl:148",
      " [12] top-level scope",
      "    @ .\\timing.jl:225 [inlined]",
      " [13] top-level scope",
      "    @ .\\In[12]:0",
      " [14] eval",
      "    @ .\\boot.jl:373 [inlined]",
      " [15] include_string(mapexpr::typeof(REPL.softscope), mod::Module, code::String, filename::String)",
      "    @ Base .\\loading.jl:1196"
     ]
    }
   ],
   "source": [
    "# Slice the array\n",
    "sW = SliceWeights()\n",
    "@time readSlices(monu10, sW; N, stride = step)"
   ]
  },
  {
   "cell_type": "code",
   "execution_count": 13,
   "id": "a1593a7a-d216-4333-8e82-60d34fd560b6",
   "metadata": {},
   "outputs": [
    {
     "name": "stdout",
     "output_type": "stream",
     "text": [
      "length(sW.slices) = 10782\n",
      "sW[zeros(3, 3, 3)] = 0.6748988190109062\n"
     ]
    },
    {
     "data": {
      "text/plain": [
       "0.6748988190109062"
      ]
     },
     "execution_count": 13,
     "metadata": {},
     "output_type": "execute_result"
    }
   ],
   "source": [
    "@show length(sW.slices)\n",
    "@show sW[zeros(3,3,3)]"
   ]
  },
  {
   "cell_type": "code",
   "execution_count": 14,
   "id": "ef5265a1-355f-4bee-83fc-695ea013e926",
   "metadata": {
    "tags": []
   },
   "outputs": [
    {
     "ename": "LoadError",
     "evalue": "UndefVarError: bRep not defined",
     "output_type": "error",
     "traceback": [
      "UndefVarError: bRep not defined",
      "",
      "Stacktrace:",
      " [1] (::var\"#8#9\")(::Tuple{Int64, Int64, Int64})",
      "   @ Main .\\none:0",
      " [2] iterate",
      "   @ .\\generator.jl:47 [inlined]",
      " [3] collect(itr::Base.Generator{Base.Iterators.ProductIterator{Tuple{UnitRange{Int64}, UnitRange{Int64}, UnitRange{Int64}}}, var\"#8#9\"})",
      "   @ Base .\\array.jl:724",
      " [4] top-level scope",
      "   @ In[14]:3",
      " [5] eval",
      "   @ .\\boot.jl:373 [inlined]",
      " [6] include_string(mapexpr::typeof(REPL.softscope), mod::Module, code::String, filename::String)",
      "   @ Base .\\loading.jl:1196"
     ]
    }
   ],
   "source": [
    "flush()\n",
    "# mcmc = [randBlock() for x in 1:mcsize, y in 1:mcsize, z in 1:mcsize]\n",
    "mcmc = [bRep[2] for x in 1:mcsize, y in 1:mcsize, z in 1:mcsize]\n",
    "refreshNd(mcmc, targetPos, true)"
   ]
  },
  {
   "cell_type": "code",
   "execution_count": null,
   "id": "28a95b03-0b6c-414f-a1e8-39bf64c322fd",
   "metadata": {
    "tags": []
   },
   "outputs": [
    {
     "ename": "LoadError",
     "evalue": "UndefVarError: mcmc not defined",
     "output_type": "error",
     "traceback": [
      "UndefVarError: mcmc not defined",
      "",
      "Stacktrace:",
      " [1] top-level scope",
      "   @ In[15]:8",
      " [2] eval",
      "   @ .\\boot.jl:373 [inlined]",
      " [3] include_string(mapexpr::typeof(REPL.softscope), mod::Module, code::String, filename::String)",
      "   @ Base .\\loading.jl:1196"
     ]
    }
   ],
   "source": [
    "using ExactOptimalTransport\n",
    "using LinearAlgebra\n",
    "using Tulip\n",
    "\n",
    "# Energy\n",
    "E = 0\n",
    "blockCountMCMC = []\n",
    "mcmcBlocksCount = size(mcmc)[1] * size(mcmc)[2] * size(mcmc)[3]\n",
    "\n",
    "W1Cost = ones(length(bDict), length(bDict)) - LinearAlgebra.I\n",
    "lpOpt = Tulip.Optimizer()\n",
    "# distDiff(p::Array{AbstractFloat}, q::Array{AbstractFloat}) = ExactOptimalTransport.emd2(p, q, W1Cost, lpOpt)\n",
    "distDiff(p, q) = norm(p - q)\n",
    "\n",
    "function totalE(arr, sW)\n",
    "    \n",
    "    shape = size(arr)\n",
    "    E = 0.0\n",
    "    \n",
    "    # Count all patterns\n",
    "    for (x, y, z) in Iterators.product([1:shape[i] - N for i in 1:3]...)\n",
    "        nSlice = arr[x:x+N-1, y:y+N-1, z:z+N-1]\n",
    "        E -= log(sW[nSlice])\n",
    "    end\n",
    "    \n",
    "    # Block marginals\n",
    "    for k in 1:Nb\n",
    "        push!(blockCountMCMC, sum(arr .== bRep[k]))\n",
    "    end\n",
    "    bDistMCMC = blockCountMCMC ./ mcmcBlocksCount\n",
    "    \n",
    "    @show bDist.p\n",
    "    @show bDistMCMC\n",
    "    @show dd = distDiff(bDist.p, bDistMCMC)\n",
    "    E += dd * bDistλ\n",
    "    \n",
    "    return E, dd * bDistλ\n",
    "end\n",
    "\n",
    "@show E, E_bDist = totalE(mcmc, sW)"
   ]
  },
  {
   "cell_type": "code",
   "execution_count": null,
   "id": "eeb550d4-b9ba-4a5c-9b84-60715b06f57d",
   "metadata": {},
   "outputs": [
    {
     "ename": "LoadError",
     "evalue": "UndefVarError: bDict not defined",
     "output_type": "error",
     "traceback": [
      "UndefVarError: bDict not defined",
      "",
      "Stacktrace:",
      " [1] top-level scope",
      "   @ show.jl:1047",
      " [2] eval",
      "   @ .\\boot.jl:373 [inlined]",
      " [3] include_string(mapexpr::typeof(REPL.softscope), mod::Module, code::String, filename::String)",
      "   @ Base .\\loading.jl:1196"
     ]
    }
   ],
   "source": [
    "@show bDict\n",
    "@show bRep\n",
    "@show bDist.p\n",
    "@show blockCountMCMC"
   ]
  },
  {
   "cell_type": "code",
   "execution_count": 17,
   "id": "57638073-c4a1-41ae-9e2f-d78061e96b67",
   "metadata": {
    "tags": []
   },
   "outputs": [
    {
     "ename": "InterruptException",
     "evalue": "InterruptException:",
     "output_type": "error",
     "traceback": [
      "InterruptException:",
      "",
      "Stacktrace:",
      "  [1] try_yieldto(undo::typeof(Base.ensure_rescheduled))",
      "    @ Base .\\task.jl:777",
      "  [2] wait()",
      "    @ Base .\\task.jl:837",
      "  [3] uv_write(s::Base.PipeEndpoint, p::Ptr{UInt8}, n::UInt64)",
      "    @ Base .\\stream.jl:992",
      "  [4] flush(s::Base.PipeEndpoint)",
      "    @ Base .\\stream.jl:1077",
      "  [5] flush",
      "    @ .\\io.jl:364 [inlined]",
      "  [6] flush(io::IJulia.IJuliaStdio{Base.PipeEndpoint})",
      "    @ IJulia C:\\Users\\betairya\\.julia\\packages\\IJulia\\e8kqU\\src\\stdio.jl:275",
      "  [7] flush_all()",
      "    @ IJulia C:\\Users\\betairya\\.julia\\packages\\IJulia\\e8kqU\\src\\stdio.jl:260",
      "  [8] execute_request(socket::ZMQ.Socket, msg::IJulia.Msg)",
      "    @ IJulia C:\\Users\\betairya\\.julia\\packages\\IJulia\\e8kqU\\src\\execute_request.jl:105",
      "  [9] #invokelatest#2",
      "    @ .\\essentials.jl:716 [inlined]",
      " [10] invokelatest",
      "    @ .\\essentials.jl:714 [inlined]",
      " [11] eventloop(socket::ZMQ.Socket)",
      "    @ IJulia C:\\Users\\betairya\\.julia\\packages\\IJulia\\e8kqU\\src\\eventloop.jl:8",
      " [12] eventloop(socket::ZMQ.Socket) (repeats 3 times)",
      "    @ IJulia C:\\Users\\betairya\\.julia\\packages\\IJulia\\e8kqU\\src\\eventloop.jl:28",
      " [13] (::IJulia.var\"#15#18\")()",
      "    @ IJulia .\\task.jl:423"
     ]
    }
   ],
   "source": [
    "mutable struct MCMCState2\n",
    "    arr::Array{WGR.Block}\n",
    "    blockCount::Array{Int64}\n",
    "    \n",
    "    E::Float64\n",
    "    E_dist::Float64\n",
    "    \n",
    "    accepted::Int64\n",
    "    totalIters::Int64\n",
    "end\n",
    "MCMCState = MCMCState2\n",
    "\n",
    "# TODO: remove duplicated patterns\n",
    "function setCalcdE!(state, posArr, blkArr)\n",
    "\n",
    "    dE = 0\n",
    "    arr = state.arr\n",
    "    shape = size(arr)\n",
    "    \n",
    "    # Old energy\n",
    "    for (p, b) in zip(posArr, blkArr)\n",
    "        \n",
    "        starts = [max(p[i] - N + 1, 1) for i in 1:3]\n",
    "        ends = [min(p[i], shape[i] - N + 1) for i in 1:3]\n",
    "        \n",
    "        for (x, y, z) in Iterators.product([s:e for (s,e) in zip(starts, ends)]...)\n",
    "            nSlice = arr[x:x+N-1, y:y+N-1, z:z+N-1]\n",
    "            dE += log(sW[nSlice])\n",
    "        end\n",
    "\n",
    "    end\n",
    "    \n",
    "    # Set blocks\n",
    "    newbCount = copy(state.blockCount)\n",
    "    for (p, b) in zip(posArr, blkArr)\n",
    "        newbCount[bDict[arr[p...]][1]] -= 1\n",
    "        arr[p...] = b\n",
    "        newbCount[bDict[b][1]] += 1\n",
    "    end\n",
    "    \n",
    "    # New energy\n",
    "    for (p, b) in zip(posArr, blkArr)\n",
    "    \n",
    "        starts = [max(p[i] - N + 1, 1) for i in 1:3]\n",
    "        ends = [min(p[i], shape[i]- N + 1) for i in 1:3]\n",
    "        \n",
    "        for (x, y, z) in Iterators.product([s:e for (s,e) in zip(starts, ends)]...)\n",
    "            nSlice = arr[x:x+N-1, y:y+N-1, z:z+N-1]\n",
    "            dE -= log(sW[nSlice])\n",
    "        end\n",
    "\n",
    "    end\n",
    "    \n",
    "    # Block distribution\n",
    "    newbDist = newbCount ./ mcmcBlocksCount\n",
    "    # @show sum(newbCount)\n",
    "    # @show newbDist\n",
    "    dd = distDiff(bDist.p, newbDist)\n",
    "    dEdist = (dd * bDistλ - state.E_dist)\n",
    "    dE += dEdist\n",
    "    \n",
    "    return dE, newbCount, dEdist\n",
    "\n",
    "end\n",
    "\n",
    "function mcmcIter!(state::MCMCState)\n",
    "\n",
    "    state.totalIters += 1\n",
    "\n",
    "    shape = size(state.arr)\n",
    "    pos = [rand(1:shape[i]) for i in 1:3]\n",
    "    blk = randBlock()\n",
    "    \n",
    "    original = state.arr[pos...]\n",
    "\n",
    "    # Do the proposal and calculate dE\n",
    "    dE, newbCount, dEDist = setCalcdE!(state, [pos], [blk])\n",
    "    \n",
    "    if dE > 0\n",
    "        alpha = exp(-dE)\n",
    "        if rand(Uniform(0, 1)) > alpha # Rejected\n",
    "            state.arr[pos...] = original\n",
    "            return false, nothing, nothing, nothing\n",
    "        end\n",
    "    end\n",
    "    \n",
    "    state.accepted += 1\n",
    "    state.E += dE\n",
    "    state.E_dist += dEDist\n",
    "    state.blockCount = newbCount\n",
    "    setBlocks((pos + targetPos .- 1)..., blk)\n",
    "    \n",
    "    return true, dE, [pos], [blk]\n",
    "end"
   ]
  },
  {
   "cell_type": "code",
   "execution_count": 18,
   "id": "a6c0ed52-8244-45e4-ba7a-c36191feee17",
   "metadata": {},
   "outputs": [
    {
     "ename": "LoadError",
     "evalue": "UndefVarError: bDict not defined",
     "output_type": "error",
     "traceback": [
      "UndefVarError: bDict not defined",
      "",
      "Stacktrace:",
      " [1] top-level scope",
      "   @ In[18]:3",
      " [2] eval",
      "   @ .\\boot.jl:373 [inlined]",
      " [3] include_string(mapexpr::typeof(REPL.softscope), mod::Module, code::String, filename::String)",
      "   @ Base .\\loading.jl:1196"
     ]
    }
   ],
   "source": [
    "rejected = 0\n",
    "\n",
    "blockCount = [b[2] for b in values(bDict)]\n",
    "state = MCMCState(mcmc, blockCountMCMC, E, E_bDist, 0, 0)\n",
    "\n",
    "for it in 1:nIters\n",
    "    accepted, dE, ps, bs = mcmcIter!(state)\n",
    "        \n",
    "    if it % (div(nIters, 100)) == 1\n",
    "        println(\"Iter $it | E = $(state.E) (E_dist = $(state.E_dist)) | $(state.blockCount)\")\n",
    "        flush()\n",
    "        flush(stdout)\n",
    "    end\n",
    "end\n",
    "\n",
    "flush()"
   ]
  },
  {
   "cell_type": "code",
   "execution_count": null,
   "id": "6fed0cee-c144-4a85-9beb-534518b6c71f",
   "metadata": {},
   "outputs": [],
   "source": []
  }
 ],
 "metadata": {
  "kernelspec": {
   "display_name": "Julia 1.7.0",
   "language": "julia",
   "name": "julia-1.7"
  },
  "language_info": {
   "file_extension": ".jl",
   "mimetype": "application/julia",
   "name": "julia",
   "version": "1.7.0"
  }
 },
 "nbformat": 4,
 "nbformat_minor": 5
}
