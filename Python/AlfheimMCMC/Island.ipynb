{
 "cells": [
  {
   "cell_type": "code",
   "execution_count": 7,
   "id": "93873039-020d-4a88-ad49-57a3ea6d7de9",
   "metadata": {},
   "outputs": [],
   "source": [
    "from WGR import *\n",
    "import numpy as np\n",
    "from tqdm.notebook import tqdm"
   ]
  },
  {
   "cell_type": "code",
   "execution_count": 3,
   "id": "fa2dbaad-57af-4e6b-aad9-859448c91651",
   "metadata": {},
   "outputs": [],
   "source": [
    "from perlin_numpy import (\n",
    "    generate_fractal_noise_2d, generate_fractal_noise_3d,\n",
    "    generate_perlin_noise_2d, generate_perlin_noise_3d\n",
    ")"
   ]
  },
  {
   "cell_type": "code",
   "execution_count": 9,
   "id": "c322099b-65d8-401d-afc3-d83673599bbe",
   "metadata": {},
   "outputs": [],
   "source": [
    "SIZE = 64\n",
    "\n",
    "np.random.seed(0)\n",
    "noise = generate_fractal_noise_3d((SIZE, SIZE, SIZE), (SIZE // 16, SIZE // 16, SIZE // 16), 3)"
   ]
  },
  {
   "cell_type": "code",
   "execution_count": 18,
   "id": "120f39c2-78d5-44da-98b6-b44bd22f2885",
   "metadata": {},
   "outputs": [],
   "source": [
    "import math\n",
    "\n",
    "o = np.array([0, 0, 0])\n",
    "for x in range(SIZE):\n",
    "    for y in range(SIZE):\n",
    "        for z in range(SIZE):\n",
    "            pos = np.array([x - SIZE // 2, y - SIZE // 2, z - SIZE // 2])\n",
    "            rpos= (pos - o)\n",
    "            r = math.sqrt(rpos[0] ** 2 + rpos[2] ** 2)\n",
    "            r = r + noise[x, y, z] * 10\n",
    "            if rpos[1] > 0:\n",
    "                r = 1000\n",
    "            r -= (rpos[1] * 0.6)\n",
    "            SetBlocks(x, y + 65, z, 0x6387D2FF if r < 20 else 0x00000000)\n",
    "SetBlocks()"
   ]
  }
 ],
 "metadata": {
  "kernelspec": {
   "display_name": "Python 3 (ipykernel)",
   "language": "python",
   "name": "python3"
  },
  "language_info": {
   "codemirror_mode": {
    "name": "ipython",
    "version": 3
   },
   "file_extension": ".py",
   "mimetype": "text/x-python",
   "name": "python",
   "nbconvert_exporter": "python",
   "pygments_lexer": "ipython3",
   "version": "3.9.7"
  }
 },
 "nbformat": 4,
 "nbformat_minor": 5
}
